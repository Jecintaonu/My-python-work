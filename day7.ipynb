{
 "cells": [
  {
   "cell_type": "code",
   "execution_count": 1,
   "id": "e47f8d7e",
   "metadata": {},
   "outputs": [],
   "source": [
    "#you just have been employed as a programmer at earlycode academy the first batch of python with data science \n",
    "#just round up all there all classes and exam and the score is broken down into 4 part python Assignment, python exams, \n",
    "#data science Assignment and data science exam. you are required to write a program using a function to display a \n",
    "#student score provided the student is a registered student in or system\n",
    "#note use dictionary\n",
    "#also "
   ]
  },
  {
   "cell_type": "code",
   "execution_count": 17,
   "id": "30080a69",
   "metadata": {},
   "outputs": [
    {
     "name": "stdout",
     "output_type": "stream",
     "text": [
      "Enter your registration ID to check your result.001\n",
      "STUDENT FINAL REPORT\n",
      "name Mary\n",
      "gender Female\n",
      "pythonAss 70\n",
      "pythonExam 50\n",
      "datasciAss 30\n",
      "datasciexam 69\n",
      "over all score: 54.75\n"
     ]
    }
   ],
   "source": [
    "def student_score_portal():\n",
    "    records={'001':{'name':'Mary', 'gender':'Female','pythonAss':70,'pythonExam':50, 'datasciAss':30, 'datasciexam':69},\n",
    "             '002':{'name':'Jacinta', 'gender':'Female','pythonAss':60,'pythonExam':80, 'datasciAss':50,'datasciexam':20},\n",
    "             '003':{'name':'Hassan', 'gender':'Male','pythonAss':20,'pythonExam':40, 'datasciAss':56, 'datasciexam':79},\n",
    "             '004':{'name':'Juliet', 'gender':'Female','pythonAss':43,'pythonExam':90, 'datasciAss':45, 'datasciexam':53},\n",
    "             '005':{'name':'Willson', 'gender':'Male','pythonAss':59,'pythonExam':67, 'datasciAss':35, 'datasciexam':97},\n",
    "             '006':{'name' :'Ada', 'gender':' Female','pythonAss':30,'pythonExam':40, 'datasciAss':76, 'datasciexam':34},\n",
    "             '007':{'name':'Sam', 'gender':'Male','pythonAss':80,'pythonExam':50, 'datasciAss':93, 'datasciexam':56}      \n",
    "    }\n",
    "    reg_id = input('Enter your registration ID to check your result.')\n",
    "    for key in records:\n",
    "        if reg_id == key:\n",
    "            print('STUDENT FINAL REPORT')\n",
    "            print('name', records[key]['name'])\n",
    "            print('gender', records[key]['gender'])\n",
    "            print('pythonAss', records[key]['pythonAss'])\n",
    "            print('pythonExam', records[key]['pythonExam'])        \n",
    "            print('datasciAss', records[key]['datasciAss'])\n",
    "            print('datasciexam', records[key]['datasciexam'])\n",
    "            Average_score= (records[key]['pythonAss'] + records[key]['pythonExam'] + records[key]['datasciAss'] + records[key]['datasciexam'])/4\n",
    "            print('over all score:', Average_score)\n",
    "            break\n",
    "    else:\n",
    "        print('ID not a registered student')\n",
    "student_score_portal()"
   ]
  },
  {
   "cell_type": "code",
   "execution_count": null,
   "id": "8a7062f8",
   "metadata": {},
   "outputs": [],
   "source": [
    "#VARIABLE LENGHT FUNCTION\n",
    "#non keyword(does not require key) and the keyword(requiires key)"
   ]
  },
  {
   "cell_type": "code",
   "execution_count": 18,
   "id": "505328e6",
   "metadata": {},
   "outputs": [
    {
     "name": "stdout",
     "output_type": "stream",
     "text": [
      "57.0\n"
     ]
    }
   ],
   "source": [
    "def average(*numbers):\n",
    "    avg = sum(numbers)/len(numbers)\n",
    "    print(avg)\n",
    "average(23,45,67,45,87,23,68,98)"
   ]
  },
  {
   "cell_type": "code",
   "execution_count": 23,
   "id": "e34807aa",
   "metadata": {},
   "outputs": [
    {
     "ename": "ModuleNotFoundError",
     "evalue": "No module named 'mymodule'",
     "output_type": "error",
     "traceback": [
      "\u001b[1;31m---------------------------------------------------------------------------\u001b[0m",
      "\u001b[1;31mModuleNotFoundError\u001b[0m                       Traceback (most recent call last)",
      "Cell \u001b[1;32mIn[23], line 1\u001b[0m\n\u001b[1;32m----> 1\u001b[0m \u001b[38;5;28;01mimport\u001b[39;00m \u001b[38;5;21;01mmymodule\u001b[39;00m\n\u001b[0;32m      2\u001b[0m \u001b[38;5;28mprint\u001b[39m(\u001b[38;5;28mdir\u001b[39m(mymodule))\n",
      "\u001b[1;31mModuleNotFoundError\u001b[0m: No module named 'mymodule'"
     ]
    }
   ],
   "source": [
    "import mymodule\n",
    "print(dir(mymodule))"
   ]
  },
  {
   "cell_type": "code",
   "execution_count": 24,
   "id": "74eadbc9",
   "metadata": {},
   "outputs": [
    {
     "name": "stdout",
     "output_type": "stream",
     "text": [
      "Name : Ade\n"
     ]
    }
   ],
   "source": [
    "#function wiith a variale lenght of keyword argument\n",
    "def records(**details):\n",
    "    for key,value in details.items():\n",
    "        print(key, ':',value)\n",
    "records(Name = 'Ade')"
   ]
  },
  {
   "cell_type": "code",
   "execution_count": null,
   "id": "2fec1b66",
   "metadata": {},
   "outputs": [],
   "source": [
    "#class\n",
    "#object\n",
    "#atribute\n",
    "#__init__\n",
    "#method\n",
    "#self\n"
   ]
  },
  {
   "cell_type": "code",
   "execution_count": null,
   "id": "0c39718f",
   "metadata": {},
   "outputs": [],
   "source": []
  }
 ],
 "metadata": {
  "kernelspec": {
   "display_name": "Python 3 (ipykernel)",
   "language": "python",
   "name": "python3"
  },
  "language_info": {
   "codemirror_mode": {
    "name": "ipython",
    "version": 3
   },
   "file_extension": ".py",
   "mimetype": "text/x-python",
   "name": "python",
   "nbconvert_exporter": "python",
   "pygments_lexer": "ipython3",
   "version": "3.11.5"
  }
 },
 "nbformat": 4,
 "nbformat_minor": 5
}
