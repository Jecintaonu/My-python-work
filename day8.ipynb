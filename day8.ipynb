{
 "cells": [
  {
   "cell_type": "code",
   "execution_count": 3,
   "id": "fd9b92cd",
   "metadata": {},
   "outputs": [
    {
     "data": {
      "text/plain": [
       "'Ade'"
      ]
     },
     "execution_count": 3,
     "metadata": {},
     "output_type": "execute_result"
    }
   ],
   "source": [
    "# AFTER A CLASS WE NEED AN OBJECT\n",
    "class person:\n",
    "    attr1 ='Ade'\n",
    "    attr2= 45\n",
    "ob = person()\n",
    "ob.attr1"
   ]
  },
  {
   "cell_type": "code",
   "execution_count": 9,
   "id": "3e2a756b",
   "metadata": {},
   "outputs": [],
   "source": [
    "#A SIMPLE CLASS WITH A SIMPLE ATTRIBUTE AND SIMPLE METHOD\n",
    "#A METHOD CAN NOT WORK WITHOUT AN OBJECT AND A METHOD IS FOUND INSIDE A CLASS\n",
    "#METHOD NEEDS THE SELF TO HAVE ACCESS TO THE ATTRIBUTE (self)\n",
    "class person:\n",
    "    attr1 = 'Ade'\n",
    "    attr2 = 45\n",
    "    \n",
    "    def details(self):\n",
    "        print(f''' PERSON DETAILS\n",
    "    NAME:{self.attr1}\n",
    "    AGE:{self.attr2}\n",
    "    ''')       \n",
    "ob = person()\n"
   ]
  },
  {
   "cell_type": "code",
   "execution_count": 8,
   "id": "9a441ef1",
   "metadata": {},
   "outputs": [
    {
     "name": "stdout",
     "output_type": "stream",
     "text": [
      " PERSON DETAILS\n",
      "    NAME:Ade\n",
      "    AGE:45\n",
      "    \n"
     ]
    }
   ],
   "source": [
    "ob.details()"
   ]
  },
  {
   "cell_type": "code",
   "execution_count": 18,
   "id": "b4c634bc",
   "metadata": {},
   "outputs": [
    {
     "name": "stdout",
     "output_type": "stream",
     "text": [
      "Enter your app password:2256\n",
      "OPERATION LIST\n",
      "1. DEPOSIT\n",
      "2. TRANSFER\n",
      "3. DATA\n",
      "4. CHECKBALANCE\n",
      "5.AIRTIME\n",
      "6.QUIT\n",
      "\n",
      "Enter operation choice:quit\n",
      "login out of app\n"
     ]
    }
   ],
   "source": [
    "#init is used to call an attribute when an object is stated\n",
    "class EARLYCODEMONIAPP:\n",
    "    def __init__(self):\n",
    "        self.balance = 0\n",
    "        \n",
    "    def deposit(self):\n",
    "        amount = float(input('Enter deposit amount:'))\n",
    "        self.balance +=amount\n",
    "        print('Transaction successful')\n",
    "        \n",
    "    def transfer(self):\n",
    "        amount = float(input('Enter transfer amount'))\n",
    "        if amount > self.balance or amount ==0:\n",
    "            print('Transfer failed.insufficient fund...')\n",
    "        else:\n",
    "            self.balance == amount\n",
    "            print('Transfer successful')\n",
    "    def airtime(self):\n",
    "        amount = float(input('Enter airtime amount'))\n",
    "        if amount > self.balance or amount ==0:\n",
    "            print('Transfer failed.insufficient fund...')\n",
    "        else:\n",
    "            self.balance == amount\n",
    "            print('Transfer successful')\n",
    "     \n",
    "    def data(self):\n",
    "        amount = float(input('Enter data amount'))\n",
    "        if amount > self.balance or amount ==0:\n",
    "            print('Transfer failed.insufficient fund...')\n",
    "        else:\n",
    "            self.balance == amount\n",
    "            print('Transfer successful')\n",
    "    def checkbalance(self):\n",
    "        print(f'Your Available Balance is {self.balance}')\n",
    "app = EARLYCODEMONIAPP()\n",
    "operation = True\n",
    "passid = '2256'\n",
    "password = input('Enter your app password:')\n",
    "if passid ==password:\n",
    "    while operation:\n",
    "        print('''OPERATION LIST\n",
    "1. DEPOSIT\n",
    "2. TRANSFER\n",
    "3. DATA\n",
    "4. CHECKBALANCE\n",
    "5.AIRTIME\n",
    "6.QUIT\n",
    "''')\n",
    "        choice = input('Enter operation choice:')\n",
    "        if choice== 'deposit':\n",
    "            app.deposit()\n",
    "        elif choice== 'transfer':\n",
    "            app.transfer()\n",
    "        elif choice== 'airtime':\n",
    "            app.airtime()   \n",
    "        elif choice== 'checkbalance':\n",
    "            app.checkbalance()\n",
    "        elif choice== 'data':\n",
    "            app.data()\n",
    "        elif choice == 'quit':\n",
    "            operation = False\n",
    "            print('login out of app')\n",
    "            break\n",
    "else:\n",
    "    print('invalid password')"
   ]
  },
  {
   "cell_type": "code",
   "execution_count": 24,
   "id": "b7d897b6",
   "metadata": {},
   "outputs": [],
   "source": [
    "class phonesimulation:\n",
    "    def __init__(self,brand,model,color,year):\n",
    "        self.brand =brand\n",
    "        self.model =model\n",
    "        self.color=color\n",
    "        self.year =year\n",
    "    def audio(self):\n",
    "        option = input('Enter audio option')\n",
    "        if option =='play':\n",
    "            print('Audio playing')\n",
    "        elif option == 'stop':\n",
    "            print('Audio stop playing')\n",
    "phone1 = phonesimulation('Tecno','camon 20 pro','black',2023)"
   ]
  },
  {
   "cell_type": "code",
   "execution_count": 25,
   "id": "56deb758",
   "metadata": {},
   "outputs": [
    {
     "name": "stdout",
     "output_type": "stream",
     "text": [
      "Enter audio optionplay\n",
      "Audio playing\n"
     ]
    }
   ],
   "source": [
    "phone1.audio()"
   ]
  },
  {
   "cell_type": "code",
   "execution_count": 30,
   "id": "9e45fefe",
   "metadata": {},
   "outputs": [],
   "source": [
    "class anothersimulation(phonesimulation):\n",
    "    def camera(self):\n",
    "        option = input('Enter camera option')\n",
    "        if option =='selfie':\n",
    "            print('Front rear camera activated')\n",
    "        elif option == 'normal':\n",
    "            print('Back rear camera activated')\n",
    "phone2 = anothersimulation('Tecno','camon 20 pro','black',2023)"
   ]
  },
  {
   "cell_type": "code",
   "execution_count": 33,
   "id": "7ef8a2ba",
   "metadata": {},
   "outputs": [
    {
     "name": "stdout",
     "output_type": "stream",
     "text": [
      "Enter camera optionselfie\n",
      "Front rear camera activated\n"
     ]
    }
   ],
   "source": [
    "phone2.camera()"
   ]
  },
  {
   "cell_type": "code",
   "execution_count": 44,
   "id": "90820e2c",
   "metadata": {},
   "outputs": [],
   "source": [
    "class CARSIMULATIONPROGRAM:\n",
    "    def __init__(self,brand,model,year,color,speed):\n",
    "        self.brand =brand\n",
    "        self.model=model\n",
    "        self.year=year\n",
    "        self.color=color\n",
    "        self.speed=speed\n",
    "    \n",
    "    def car(self):\n",
    "        option=input('Enter an option:')\n",
    "        if option == 'start':\n",
    "             print('Car starts')\n",
    "        elif option == 'changegear':\n",
    "            print('Gear changed')\n",
    "        elif option == 'accelerate':\n",
    "            print('Car accelerate')\n",
    "        elif option == 'stop':\n",
    "            print('Car stops')\n",
    "        else:\n",
    "            print('invalid command')     \n",
    "prog = CARSIMULATIONPROGRAM('lexus', 'latest', '2023', 'black', '140km')\n"
   ]
  },
  {
   "cell_type": "code",
   "execution_count": 46,
   "id": "8b589671",
   "metadata": {},
   "outputs": [
    {
     "name": "stdout",
     "output_type": "stream",
     "text": [
      "Enter an option:run\n",
      "invalid command\n"
     ]
    }
   ],
   "source": [
    "prog.car()"
   ]
  },
  {
   "cell_type": "code",
   "execution_count": 50,
   "id": "d6c88af5",
   "metadata": {},
   "outputs": [],
   "source": [
    "class SIMULATIONPROGRAM2(CARSIMULATIONPROGRAM):\n",
    "    def motorcycle(self):\n",
    "        option =input('Enter an option:')\n",
    "        if option == 'Turn':\n",
    "            print('Take a turn')\n",
    "prog2 =SIMULATIONPROGRAM2('lexus', 'latest', '2023', 'black', '140km')\n"
   ]
  },
  {
   "cell_type": "code",
   "execution_count": 51,
   "id": "2dd4f188",
   "metadata": {},
   "outputs": [
    {
     "name": "stdout",
     "output_type": "stream",
     "text": [
      "Enter an option:stop\n",
      "Car stops\n"
     ]
    }
   ],
   "source": [
    "prog2.car()"
   ]
  },
  {
   "cell_type": "code",
   "execution_count": 52,
   "id": "cbf16d88",
   "metadata": {},
   "outputs": [
    {
     "name": "stdout",
     "output_type": "stream",
     "text": [
      "Enter an option:Turn\n",
      "Take a turn\n"
     ]
    }
   ],
   "source": [
    "prog2.motorcycle()"
   ]
  },
  {
   "cell_type": "code",
   "execution_count": null,
   "id": "94629843",
   "metadata": {},
   "outputs": [],
   "source": []
  }
 ],
 "metadata": {
  "kernelspec": {
   "display_name": "Python 3 (ipykernel)",
   "language": "python",
   "name": "python3"
  },
  "language_info": {
   "codemirror_mode": {
    "name": "ipython",
    "version": 3
   },
   "file_extension": ".py",
   "mimetype": "text/x-python",
   "name": "python",
   "nbconvert_exporter": "python",
   "pygments_lexer": "ipython3",
   "version": "3.11.5"
  }
 },
 "nbformat": 4,
 "nbformat_minor": 5
}
