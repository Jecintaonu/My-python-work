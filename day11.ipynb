{
 "cells": [
  {
   "cell_type": "code",
   "execution_count": 31,
   "id": "1bf0c431",
   "metadata": {},
   "outputs": [],
   "source": [
    "stock = {}\n",
    "\n",
    "def add_item(item_id, name, quantity):\n",
    "    if item_id not in stock:\n",
    "        stock[item_id] ={'name':name, 'quantity': quantity}\n",
    "        print(f\"item {name} added to stock with ID {item_id}\")\n",
    "    else:\n",
    "        print(f\" item with ID {item_id} already exists. use update_item to modify.\")\n",
    "    \n",
    "def search_item(item_id):\n",
    "    if item_id in stock:\n",
    "        item =stock[item_id]\n",
    "        print(f\"item ID : {item_id}, Name: {item['name']}, Quantity: {item['quantity']}\")\n",
    "    else:\n",
    "         print(f\"item with ID {item_id} not found in stock.\")\n",
    "\n",
    "def delete_item(item_id):\n",
    "    if item_id in stock:\n",
    "        del(stock[item_id])\n",
    "        print(f\"item with ID {item_id} deleted from stock.\")\n",
    "    else:\n",
    "        print(f\" item with ID {item_id} not found in stock.\") \n",
    "    \n",
    "def display_stock():\n",
    "    print(\"\\ncurrent stock:\")\n",
    "    for item_id, item in stock.items():\n",
    "        print(f\"item ID: {item_id}, Name: {item['name']}, Quantity:{item['quantity']}\")\n",
    "              "
   ]
  },
  {
   "cell_type": "code",
   "execution_count": 32,
   "id": "e7566629",
   "metadata": {},
   "outputs": [
    {
     "name": "stdout",
     "output_type": "stream",
     "text": [
      "item Good Mama 50KG Rice added to stock with ID 101\n",
      "item Golden penny spagetti added to stock with ID 102\n",
      "item WAW 10KG Detergent added to stock with ID 103\n",
      "item Good Mama 10KG Rice added to stock with ID 104\n",
      "item Dangote 5KG Sugar added to stock with ID 105\n"
     ]
    }
   ],
   "source": [
    "add_item(101,'Good Mama 50KG Rice',25)\n",
    "add_item(102,'Golden penny spagetti',50)\n",
    "add_item(103,'WAW 10KG Detergent',100)\n",
    "add_item(104,'Good Mama 10KG Rice',250)\n",
    "add_item(105,'Dangote 5KG Sugar',25)\n"
   ]
  },
  {
   "cell_type": "code",
   "execution_count": 33,
   "id": "17653470",
   "metadata": {},
   "outputs": [
    {
     "data": {
      "text/plain": [
       "{101: {'name': 'Good Mama 50KG Rice', 'quantity': 25},\n",
       " 102: {'name': 'Golden penny spagetti', 'quantity': 50},\n",
       " 103: {'name': 'WAW 10KG Detergent', 'quantity': 100},\n",
       " 104: {'name': 'Good Mama 10KG Rice', 'quantity': 250},\n",
       " 105: {'name': 'Dangote 5KG Sugar', 'quantity': 25}}"
      ]
     },
     "execution_count": 33,
     "metadata": {},
     "output_type": "execute_result"
    }
   ],
   "source": [
    "stock"
   ]
  },
  {
   "cell_type": "code",
   "execution_count": 34,
   "id": "c7b5f4f4",
   "metadata": {},
   "outputs": [
    {
     "name": "stdout",
     "output_type": "stream",
     "text": [
      "item ID : 103, Name: WAW 10KG Detergent, Quantity: 100\n"
     ]
    }
   ],
   "source": [
    "search_item(103)"
   ]
  },
  {
   "cell_type": "code",
   "execution_count": 35,
   "id": "f0cb756f",
   "metadata": {},
   "outputs": [
    {
     "name": "stdout",
     "output_type": "stream",
     "text": [
      "item with ID 104 deleted from stock.\n"
     ]
    }
   ],
   "source": [
    "delete_item(104)"
   ]
  },
  {
   "cell_type": "code",
   "execution_count": 37,
   "id": "a4b88229",
   "metadata": {},
   "outputs": [
    {
     "name": "stdout",
     "output_type": "stream",
     "text": [
      "\n",
      "current stock:\n",
      "item ID: 101, Name: Good Mama 50KG Rice, Quantity:25\n",
      "item ID: 102, Name: Golden penny spagetti, Quantity:50\n",
      "item ID: 103, Name: WAW 10KG Detergent, Quantity:100\n",
      "item ID: 105, Name: Dangote 5KG Sugar, Quantity:25\n"
     ]
    }
   ],
   "source": [
    "display_stock()"
   ]
  },
  {
   "cell_type": "code",
   "execution_count": 38,
   "id": "374d08b0",
   "metadata": {},
   "outputs": [
    {
     "data": {
      "text/plain": [
       "126"
      ]
     },
     "execution_count": 38,
     "metadata": {},
     "output_type": "execute_result"
    }
   ],
   "source": [
    "#lambda function: it is an anonymous function which means it cannot be re used.we use it for micro or simple task\n",
    "#you can't break it down\n",
    "(lambda x,y:x+y)(74,52)"
   ]
  },
  {
   "cell_type": "code",
   "execution_count": 39,
   "id": "f2f44d76",
   "metadata": {},
   "outputs": [],
   "source": [
    "#lambda function only accepts the if and else statement it cannot accept onlythe if statement\n",
    "#lambda function to check if a user's name is in upper case"
   ]
  },
  {
   "cell_type": "code",
   "execution_count": 40,
   "id": "b938d621",
   "metadata": {},
   "outputs": [
    {
     "name": "stdout",
     "output_type": "stream",
     "text": [
      "Enter your name:jessy\n"
     ]
    },
    {
     "data": {
      "text/plain": [
       "'jessy not in upper case'"
      ]
     },
     "execution_count": 40,
     "metadata": {},
     "output_type": "execute_result"
    }
   ],
   "source": [
    "(lambda name:f'{name} is in upper case' if name == name.upper else f'{name} not in upper case')(input('Enter your name:'))"
   ]
  },
  {
   "cell_type": "code",
   "execution_count": 41,
   "id": "34025cf9",
   "metadata": {},
   "outputs": [
    {
     "name": "stdout",
     "output_type": "stream",
     "text": [
      "['PYTHON', 'C++', 'JAVA', 'PHP', 'GO', 'RUBY', 'PERL', 'RUST', 'JULIA', 'COBOL']\n"
     ]
    }
   ],
   "source": [
    "#map: map is used for the modification of sequence like string, tuple and list where the lambda\n",
    "#function carries the operation and final outcome is returned as a list or tuple\n",
    "language_name = ['python','c++', 'java','php','go','ruby','perl','rust','julia', 'cobol']\n",
    "finaloutcome = list(map(lambda x: x.upper(),language_name))\n",
    "print(finaloutcome)"
   ]
  },
  {
   "cell_type": "code",
   "execution_count": 42,
   "id": "ca92d477",
   "metadata": {},
   "outputs": [
    {
     "name": "stdout",
     "output_type": "stream",
     "text": [
      "['RUBY', 'RUST']\n"
     ]
    }
   ],
   "source": [
    "#filter: filter is used for the selection in sequence like string , tuple and list where the lambda\n",
    "##function carries the operation and final outcome is returned as a list or tuple\n",
    "finaloutcome2 = list(filter(lambda x: x.startswith('R'),finaloutcome))\n",
    "print(finaloutcome2)"
   ]
  },
  {
   "cell_type": "code",
   "execution_count": 39,
   "id": "e07cb1c1",
   "metadata": {},
   "outputs": [],
   "source": [
    "#EXERCISE\n",
    "#from the sequense below find the even and odd numbers separated in different list\n",
    "numbers = []\n",
    "import random\n",
    "for i in range(1,51):\n",
    "    num = random.randint(14,89)\n",
    "    numbers.append(num)\n",
    "    "
   ]
  },
  {
   "cell_type": "code",
   "execution_count": 40,
   "id": "f792cc85",
   "metadata": {},
   "outputs": [
    {
     "name": "stdout",
     "output_type": "stream",
     "text": [
      "[44, 47, 38, 45, 31, 54, 79, 63, 18, 40, 38, 24, 80, 89, 37, 68, 29, 41, 73, 44, 43, 84, 23, 69, 58, 74, 44, 87, 15, 60, 50, 19, 18, 39, 71, 23, 26, 70, 26, 81, 54, 16, 16, 26, 55, 71, 71, 47, 30, 58]\n"
     ]
    }
   ],
   "source": [
    "print(numbers)"
   ]
  },
  {
   "cell_type": "code",
   "execution_count": 41,
   "id": "deac97a5",
   "metadata": {},
   "outputs": [
    {
     "name": "stdout",
     "output_type": "stream",
     "text": [
      "[44, 38, 54, 18, 40, 38, 24, 80, 68, 44, 84, 58, 74, 44, 60, 50, 18, 26, 70, 26, 54, 16, 16, 26, 30, 58]\n"
     ]
    }
   ],
   "source": [
    "finaloutcome2 = list(filter(lambda x: x%2 ==0,numbers))\n",
    "print(finaloutcome2)"
   ]
  },
  {
   "cell_type": "code",
   "execution_count": 42,
   "id": "bcf027cb",
   "metadata": {},
   "outputs": [
    {
     "name": "stdout",
     "output_type": "stream",
     "text": [
      "[47, 45, 31, 79, 63, 89, 37, 29, 41, 73, 43, 23, 69, 87, 15, 19, 39, 71, 23, 81, 55, 71, 71, 47]\n"
     ]
    }
   ],
   "source": [
    "finaloutcome3 = list(filter(lambda x: x%2 != 0,numbers))\n",
    "print(finaloutcome3)"
   ]
  },
  {
   "cell_type": "code",
   "execution_count": 43,
   "id": "86d22beb",
   "metadata": {},
   "outputs": [
    {
     "name": "stdout",
     "output_type": "stream",
     "text": [
      "Enter your password:Jecintaonu\n"
     ]
    },
    {
     "data": {
      "text/plain": [
       "' Jecintaonu is in capitalize case and length is above 8'"
      ]
     },
     "execution_count": 43,
     "metadata": {},
     "output_type": "execute_result"
    }
   ],
   "source": [
    "#ASSIGNMENT\n",
    "(lambda password: f' {password} is in capitalize case and length is above 8' if password == password.capitalize() and len(password)>8 else f' {password} is not in capitalize case and length less than 8')(input('Enter your password:')) "
   ]
  },
  {
   "cell_type": "code",
   "execution_count": 46,
   "id": "e2aa9dfa",
   "metadata": {},
   "outputs": [
    {
     "name": "stdout",
     "output_type": "stream",
     "text": [
      "[6.6332495807108, 6.164414002968976, 7.3484692283495345, 4.242640687119285, 6.324555320336759, 6.164414002968976, 4.898979485566356, 8.94427190999916, 8.246211251235321, 6.6332495807108, 9.16515138991168, 7.615773105863909, 8.602325267042627, 6.6332495807108, 7.745966692414834, 7.0710678118654755, 4.242640687119285, 5.0990195135927845, 8.366600265340756, 5.0990195135927845, 7.3484692283495345, 4.0, 4.0, 5.0990195135927845, 5.477225575051661, 7.615773105863909]\n"
     ]
    }
   ],
   "source": [
    "import math\n",
    "outcome4 = list(map(lambda x: math.sqrt(x),finaloutcome2))\n",
    "print(outcome4)"
   ]
  },
  {
   "cell_type": "code",
   "execution_count": null,
   "id": "d9514675",
   "metadata": {},
   "outputs": [],
   "source": []
  }
 ],
 "metadata": {
  "kernelspec": {
   "display_name": "Python 3 (ipykernel)",
   "language": "python",
   "name": "python3"
  },
  "language_info": {
   "codemirror_mode": {
    "name": "ipython",
    "version": 3
   },
   "file_extension": ".py",
   "mimetype": "text/x-python",
   "name": "python",
   "nbconvert_exporter": "python",
   "pygments_lexer": "ipython3",
   "version": "3.11.5"
  }
 },
 "nbformat": 4,
 "nbformat_minor": 5
}
