{
 "cells": [
  {
   "cell_type": "code",
   "execution_count": 1,
   "id": "f77422d5",
   "metadata": {},
   "outputs": [],
   "source": [
    "numbers=(13,34,23,12,45,67,78,23,24,90,69,18)"
   ]
  },
  {
   "cell_type": "code",
   "execution_count": 2,
   "id": "c159ae11",
   "metadata": {},
   "outputs": [
    {
     "name": "stdout",
     "output_type": "stream",
     "text": [
      "<class 'tuple'>\n"
     ]
    }
   ],
   "source": [
    "print(type(numbers))"
   ]
  },
  {
   "cell_type": "code",
   "execution_count": 3,
   "id": "6f0c19bb",
   "metadata": {},
   "outputs": [
    {
     "name": "stdout",
     "output_type": "stream",
     "text": [
      "12\n"
     ]
    }
   ],
   "source": [
    "print(len(numbers))"
   ]
  },
  {
   "cell_type": "code",
   "execution_count": 4,
   "id": "2f936fa3",
   "metadata": {},
   "outputs": [
    {
     "name": "stdout",
     "output_type": "stream",
     "text": [
      "67\n"
     ]
    }
   ],
   "source": [
    "print(numbers[5])"
   ]
  },
  {
   "cell_type": "code",
   "execution_count": 5,
   "id": "03ecccb0",
   "metadata": {},
   "outputs": [
    {
     "name": "stdout",
     "output_type": "stream",
     "text": [
      "67\n"
     ]
    }
   ],
   "source": [
    "print(numbers[-7])"
   ]
  },
  {
   "cell_type": "code",
   "execution_count": 6,
   "id": "51c0d6c9",
   "metadata": {},
   "outputs": [
    {
     "name": "stdout",
     "output_type": "stream",
     "text": [
      "(23, 12, 45, 67, 78)\n"
     ]
    }
   ],
   "source": [
    "print(numbers[2:7])"
   ]
  },
  {
   "cell_type": "code",
   "execution_count": 7,
   "id": "31a4565a",
   "metadata": {},
   "outputs": [
    {
     "name": "stdout",
     "output_type": "stream",
     "text": [
      "False\n"
     ]
    }
   ],
   "source": [
    "print(100 in numbers)"
   ]
  },
  {
   "cell_type": "code",
   "execution_count": 8,
   "id": "e53fddd9",
   "metadata": {},
   "outputs": [
    {
     "name": "stdout",
     "output_type": "stream",
     "text": [
      "0\n"
     ]
    }
   ],
   "source": [
    "print(numbers.count(60))"
   ]
  },
  {
   "cell_type": "code",
   "execution_count": 10,
   "id": "65a18d35",
   "metadata": {},
   "outputs": [
    {
     "name": "stdout",
     "output_type": "stream",
     "text": [
      "10\n"
     ]
    }
   ],
   "source": [
    "print(numbers.index(69))"
   ]
  },
  {
   "cell_type": "code",
   "execution_count": 15,
   "id": "7c775d9d",
   "metadata": {},
   "outputs": [
    {
     "name": "stdout",
     "output_type": "stream",
     "text": [
      "Lemon\n"
     ]
    }
   ],
   "source": [
    "shopA=['Apple', 'Bucket', 'Strawberry', 'Lemon', 'Banana']\n",
    "print(shopA[3])"
   ]
  },
  {
   "cell_type": "code",
   "execution_count": 12,
   "id": "b41768fc",
   "metadata": {},
   "outputs": [
    {
     "name": "stdout",
     "output_type": "stream",
     "text": [
      "['Apple', 'Bucket', 'Strawberry', 'Lemon', 'Banana', 'pear', 'mango', 'pear']\n"
     ]
    }
   ],
   "source": [
    "shopA.append('pear')\n",
    "print(shopA)"
   ]
  },
  {
   "cell_type": "code",
   "execution_count": 9,
   "id": "290d9455",
   "metadata": {},
   "outputs": [
    {
     "name": "stdout",
     "output_type": "stream",
     "text": [
      "['Apple', 'Bucket', 'pen', 'Strawberry', 'Lemon', 'Banana', 'pear']\n"
     ]
    }
   ],
   "source": [
    "shopA.insert(2, 'pen')\n",
    "print(shopA)"
   ]
  },
  {
   "cell_type": "code",
   "execution_count": 19,
   "id": "b1b35e8d",
   "metadata": {},
   "outputs": [],
   "source": [
    "shopB=['Book','Orange', 'Pear']"
   ]
  },
  {
   "cell_type": "code",
   "execution_count": 20,
   "id": "54f76a54",
   "metadata": {},
   "outputs": [
    {
     "name": "stdout",
     "output_type": "stream",
     "text": [
      "['Apple', 'Bucket', 'pen', 'Strawberry', 'Lemon', 'Banana', 'pear', 'Book', 'Orange', 'Pear']\n"
     ]
    }
   ],
   "source": [
    "shopA.extend(shopB)\n",
    "print(shopA)"
   ]
  },
  {
   "cell_type": "code",
   "execution_count": 21,
   "id": "866f850f",
   "metadata": {},
   "outputs": [
    {
     "name": "stdout",
     "output_type": "stream",
     "text": [
      "['Apple', 'Bucket', 'pen', 'Lemon', 'Banana', 'pear', 'Book', 'Orange', 'Pear']\n"
     ]
    }
   ],
   "source": [
    "shopA.pop(3)\n",
    "print(shopA)"
   ]
  },
  {
   "cell_type": "code",
   "execution_count": 22,
   "id": "04358437",
   "metadata": {},
   "outputs": [
    {
     "name": "stdout",
     "output_type": "stream",
     "text": [
      "['Apple', 'Bucket', 'pen', 'Lemon', 'pear', 'Book', 'Orange', 'Pear']\n"
     ]
    }
   ],
   "source": [
    "shopA.remove('Banana')\n",
    "print(shopA)"
   ]
  },
  {
   "cell_type": "code",
   "execution_count": 23,
   "id": "2cee9cbf",
   "metadata": {},
   "outputs": [
    {
     "name": "stdout",
     "output_type": "stream",
     "text": [
      "['Apple', 'Book', 'Bucket', 'Lemon', 'Orange', 'Pear', 'pear', 'pen']\n"
     ]
    }
   ],
   "source": [
    "shopA.sort()\n",
    "print(shopA)"
   ]
  },
  {
   "cell_type": "code",
   "execution_count": 24,
   "id": "1c14f0fd",
   "metadata": {},
   "outputs": [
    {
     "name": "stdout",
     "output_type": "stream",
     "text": [
      "['pen', 'pear', 'Pear', 'Orange', 'Lemon', 'Bucket', 'Book', 'Apple']\n"
     ]
    }
   ],
   "source": [
    "shopA.reverse()\n",
    "print(shopA)"
   ]
  },
  {
   "cell_type": "code",
   "execution_count": 26,
   "id": "319723db",
   "metadata": {},
   "outputs": [
    {
     "name": "stdout",
     "output_type": "stream",
     "text": [
      "['pen', 'pear', 'Pear', 'Orange', 'Lemon', 'Bucket', 'Book', 'Apple']\n"
     ]
    }
   ],
   "source": [
    "shopC=shopA.copy()\n",
    "print(shopC)"
   ]
  },
  {
   "cell_type": "code",
   "execution_count": 27,
   "id": "4110e8da",
   "metadata": {},
   "outputs": [
    {
     "name": "stdout",
     "output_type": "stream",
     "text": [
      "[]\n"
     ]
    }
   ],
   "source": [
    "shopC.clear()\n",
    "print(shopC)"
   ]
  },
  {
   "cell_type": "code",
   "execution_count": 2,
   "id": "9edfdd2d",
   "metadata": {},
   "outputs": [
    {
     "ename": "NameError",
     "evalue": "name 'shopC' is not defined",
     "output_type": "error",
     "traceback": [
      "\u001b[1;31m---------------------------------------------------------------------------\u001b[0m",
      "\u001b[1;31mNameError\u001b[0m                                 Traceback (most recent call last)",
      "Cell \u001b[1;32mIn[2], line 1\u001b[0m\n\u001b[1;32m----> 1\u001b[0m \u001b[38;5;28;01mdel\u001b[39;00m(shopC)\n\u001b[0;32m      2\u001b[0m \u001b[38;5;28mprint\u001b[39m(shopC)\n",
      "\u001b[1;31mNameError\u001b[0m: name 'shopC' is not defined"
     ]
    }
   ],
   "source": [
    "del(shopC)\n",
    "print(shopC)"
   ]
  },
  {
   "cell_type": "code",
   "execution_count": 29,
   "id": "89d796da",
   "metadata": {},
   "outputs": [
    {
     "name": "stdout",
     "output_type": "stream",
     "text": [
      "1.56\n"
     ]
    }
   ],
   "source": [
    "records={'Name':'Fatima','Age':45,'Gender':'Female','Height':1.56,'Weight':60.5}\n",
    "print(records['Height'])"
   ]
  },
  {
   "cell_type": "code",
   "execution_count": 30,
   "id": "72ca60d0",
   "metadata": {},
   "outputs": [
    {
     "name": "stdout",
     "output_type": "stream",
     "text": [
      "{'Name': 'Fatima', 'Age': 45, 'Gender': 'Female', 'Height': 1.56, 'Weight': 60.5, 'Adress': 'No 25 high way street'}\n"
     ]
    }
   ],
   "source": [
    "records['Adress']='No 25 high way street'\n",
    "print(records)"
   ]
  },
  {
   "cell_type": "code",
   "execution_count": 36,
   "id": "cc74fa66",
   "metadata": {},
   "outputs": [
    {
     "name": "stdout",
     "output_type": "stream",
     "text": [
      "{'Name': 'Fatima', 'Age': 45, 'Gender': 'Female', 'Height': 1.66, 'Weight': 60.5, 'Adress': 'No 25 high way street'}\n"
     ]
    }
   ],
   "source": [
    "newval={'Height':1.66}\n",
    "records.update(newval)\n",
    "print(records)"
   ]
  },
  {
   "cell_type": "code",
   "execution_count": 38,
   "id": "4a666e88",
   "metadata": {},
   "outputs": [
    {
     "name": "stdout",
     "output_type": "stream",
     "text": [
      "{'Name': 'Fatima', 'Gender': 'Female', 'Height': 1.66, 'Weight': 60.5, 'Adress': 'No 25 high way street'}\n"
     ]
    }
   ],
   "source": [
    "records.pop('Age')\n",
    "print(records)"
   ]
  },
  {
   "cell_type": "code",
   "execution_count": 39,
   "id": "dabfc655",
   "metadata": {},
   "outputs": [
    {
     "name": "stdout",
     "output_type": "stream",
     "text": [
      "{'Name': 'Fatima', 'Gender': 'Female', 'Height': 1.66, 'Weight': 60.5}\n"
     ]
    }
   ],
   "source": [
    "records.popitem()\n",
    "print(records)"
   ]
  },
  {
   "cell_type": "code",
   "execution_count": 41,
   "id": "1e23a157",
   "metadata": {},
   "outputs": [
    {
     "name": "stdout",
     "output_type": "stream",
     "text": [
      "dict_items([('Name', 'Fatima'), ('Gender', 'Female'), ('Height', 1.66), ('Weight', 60.5)])\n"
     ]
    }
   ],
   "source": [
    "print(records.items())"
   ]
  },
  {
   "cell_type": "code",
   "execution_count": 43,
   "id": "367dcf7e",
   "metadata": {},
   "outputs": [
    {
     "name": "stdout",
     "output_type": "stream",
     "text": [
      "dict_values(['Fatima', 'Female', 1.66, 60.5])\n"
     ]
    }
   ],
   "source": [
    "print(records.values())"
   ]
  },
  {
   "cell_type": "code",
   "execution_count": 44,
   "id": "09bb1815",
   "metadata": {},
   "outputs": [
    {
     "name": "stdout",
     "output_type": "stream",
     "text": [
      "dict_keys(['Name', 'Gender', 'Height', 'Weight'])\n"
     ]
    }
   ],
   "source": [
    "print(records.keys())"
   ]
  },
  {
   "cell_type": "code",
   "execution_count": 18,
   "id": "8a1bb3bd",
   "metadata": {},
   "outputs": [
    {
     "name": "stdout",
     "output_type": "stream",
     "text": [
      "Bisi\n"
     ]
    }
   ],
   "source": [
    "records={'Name':['Ade','Bisi','James']}\n",
    "print(records['Name'][1])"
   ]
  },
  {
   "cell_type": "code",
   "execution_count": 19,
   "id": "d247f278",
   "metadata": {},
   "outputs": [],
   "source": [
    "records = {'Height':4.16, 'Age':23, 'Name':'jecinta'}"
   ]
  },
  {
   "cell_type": "code",
   "execution_count": 20,
   "id": "df69d363",
   "metadata": {},
   "outputs": [
    {
     "name": "stdout",
     "output_type": "stream",
     "text": [
      "{'Height': 4.16, 'Age': 23}\n"
     ]
    }
   ],
   "source": [
    "records.popitem()\n",
    "print(records)"
   ]
  },
  {
   "cell_type": "code",
   "execution_count": 25,
   "id": "1529ef67",
   "metadata": {},
   "outputs": [],
   "source": [
    "name = ('Joy','Mercy','John','Glory')"
   ]
  },
  {
   "cell_type": "code",
   "execution_count": 26,
   "id": "4962005e",
   "metadata": {},
   "outputs": [
    {
     "name": "stdout",
     "output_type": "stream",
     "text": [
      "John\n"
     ]
    }
   ],
   "source": [
    "print(name[2])"
   ]
  },
  {
   "cell_type": "code",
   "execution_count": 27,
   "id": "ef903033",
   "metadata": {},
   "outputs": [],
   "source": [
    "name = ['Joy','Mercy','Joseph','Glory']"
   ]
  },
  {
   "cell_type": "code",
   "execution_count": 28,
   "id": "2d39422d",
   "metadata": {},
   "outputs": [
    {
     "name": "stdout",
     "output_type": "stream",
     "text": [
      "Joseph\n"
     ]
    }
   ],
   "source": [
    "print(name[2])"
   ]
  },
  {
   "cell_type": "code",
   "execution_count": 28,
   "id": "689950c4",
   "metadata": {},
   "outputs": [],
   "source": [
    "records={'Name':'Fatima','Age':45,'Gender':'Female','Height':1.56,'Weight':60.5}"
   ]
  },
  {
   "cell_type": "code",
   "execution_count": 29,
   "id": "65b90b25",
   "metadata": {},
   "outputs": [
    {
     "name": "stdout",
     "output_type": "stream",
     "text": [
      "{'Name': 'Fatima', 'Age': 45, 'Gender': 'Female', 'Height': 1.56}\n"
     ]
    }
   ],
   "source": [
    "records.popitem()\n",
    "print(records)"
   ]
  },
  {
   "cell_type": "code",
   "execution_count": 30,
   "id": "ec10be36",
   "metadata": {},
   "outputs": [
    {
     "name": "stdout",
     "output_type": "stream",
     "text": [
      "{'Name': 'Fatima', 'Age': 45, 'Gender': 'Female', 'Height': 1.56, 'sex': 'Female'}\n"
     ]
    }
   ],
   "source": [
    "records['sex']='Female'\n",
    "print(records)"
   ]
  },
  {
   "cell_type": "code",
   "execution_count": 32,
   "id": "b5086456",
   "metadata": {},
   "outputs": [
    {
     "name": "stdout",
     "output_type": "stream",
     "text": [
      "{'Name': 'Fatima', 'Gender': 'Female', 'Height': 1.56, 'sex': 'Female'}\n"
     ]
    }
   ],
   "source": [
    "records.pop('Age')\n",
    "print(records)"
   ]
  },
  {
   "cell_type": "code",
   "execution_count": 33,
   "id": "c64814ce",
   "metadata": {},
   "outputs": [
    {
     "name": "stdout",
     "output_type": "stream",
     "text": [
      "{'Name': 'Fatima', 'Gender': 'Female', 'Height': 1.56, 'sex': 'Female'}\n"
     ]
    }
   ],
   "source": [
    "records['Name']\n",
    "print(records)"
   ]
  },
  {
   "cell_type": "code",
   "execution_count": 34,
   "id": "fc498b22",
   "metadata": {},
   "outputs": [
    {
     "name": "stdout",
     "output_type": "stream",
     "text": [
      "Fatima\n"
     ]
    }
   ],
   "source": [
    "print(records['Name'])"
   ]
  },
  {
   "cell_type": "code",
   "execution_count": 35,
   "id": "5a90c048",
   "metadata": {},
   "outputs": [
    {
     "name": "stdout",
     "output_type": "stream",
     "text": [
      "{'Name': 'Fatima', 'Gender': 'Female', 'Height': 1.56, 'sex': 'Female', 'school': 'earlycode'}\n"
     ]
    }
   ],
   "source": [
    "newline = {'school':'earlycode'}\n",
    "records.update(newline)\n",
    "print(records)"
   ]
  },
  {
   "cell_type": "code",
   "execution_count": 29,
   "id": "17020cdd",
   "metadata": {},
   "outputs": [
    {
     "data": {
      "text/plain": [
       "8"
      ]
     },
     "execution_count": 29,
     "metadata": {},
     "output_type": "execute_result"
    }
   ],
   "source": [
    "x=4\n",
    "y=4\n",
    "import operator\n",
    "operator.add(x,y)"
   ]
  },
  {
   "cell_type": "code",
   "execution_count": 32,
   "id": "6d9ebe82",
   "metadata": {},
   "outputs": [],
   "source": [
    "str1='my name is ada'\n",
    "str2= int('34')\n",
    "str3=float(34)"
   ]
  },
  {
   "cell_type": "code",
   "execution_count": 33,
   "id": "c4c994ce",
   "metadata": {},
   "outputs": [
    {
     "name": "stdout",
     "output_type": "stream",
     "text": [
      "my name is ada\n"
     ]
    }
   ],
   "source": [
    "print(str1)"
   ]
  },
  {
   "cell_type": "code",
   "execution_count": 34,
   "id": "d908ff25",
   "metadata": {},
   "outputs": [
    {
     "name": "stdout",
     "output_type": "stream",
     "text": [
      "34\n"
     ]
    }
   ],
   "source": [
    "print(str2)"
   ]
  },
  {
   "cell_type": "code",
   "execution_count": 35,
   "id": "db083efa",
   "metadata": {},
   "outputs": [
    {
     "name": "stdout",
     "output_type": "stream",
     "text": [
      "34.0\n"
     ]
    }
   ],
   "source": [
    "print(str3)"
   ]
  },
  {
   "cell_type": "code",
   "execution_count": 43,
   "id": "690b1e22",
   "metadata": {},
   "outputs": [],
   "source": [
    "name5='john'\n",
    "name6='ada'\n",
    "name2=\" \".join([name5,name6])"
   ]
  },
  {
   "cell_type": "code",
   "execution_count": 44,
   "id": "1d816c9b",
   "metadata": {},
   "outputs": [
    {
     "name": "stdout",
     "output_type": "stream",
     "text": [
      "john ada\n"
     ]
    }
   ],
   "source": [
    "print(name2)"
   ]
  },
  {
   "cell_type": "code",
   "execution_count": 53,
   "id": "5a88b2d8",
   "metadata": {},
   "outputs": [
    {
     "data": {
      "text/plain": [
       "5"
      ]
     },
     "execution_count": 53,
     "metadata": {},
     "output_type": "execute_result"
    }
   ],
   "source": [
    "import operator\n",
    "operator.add(1,4)"
   ]
  },
  {
   "cell_type": "code",
   "execution_count": null,
   "id": "b2971f6c",
   "metadata": {},
   "outputs": [],
   "source": []
  }
 ],
 "metadata": {
  "kernelspec": {
   "display_name": "Python 3 (ipykernel)",
   "language": "python",
   "name": "python3"
  },
  "language_info": {
   "codemirror_mode": {
    "name": "ipython",
    "version": 3
   },
   "file_extension": ".py",
   "mimetype": "text/x-python",
   "name": "python",
   "nbconvert_exporter": "python",
   "pygments_lexer": "ipython3",
   "version": "3.11.5"
  }
 },
 "nbformat": 4,
 "nbformat_minor": 5
}
