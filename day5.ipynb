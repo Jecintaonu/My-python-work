{
 "cells": [
  {
   "cell_type": "code",
   "execution_count": 1,
   "id": "cf74c708",
   "metadata": {},
   "outputs": [],
   "source": [
    "#loop simple means iterating a program over and over again\n",
    "#we have two types of loop\n",
    "#FOR loop- to use the FOR loop , the values must be known\n",
    "#we can also use it to loop through a word"
   ]
  },
  {
   "cell_type": "code",
   "execution_count": 2,
   "id": "9e3302a7",
   "metadata": {},
   "outputs": [
    {
     "name": "stdout",
     "output_type": "stream",
     "text": [
      "ppp\n",
      "yyy\n",
      "ttt\n",
      "hhh\n",
      "ooo\n",
      "nnn\n"
     ]
    }
   ],
   "source": [
    "word = 'python'\n",
    "for char in word:\n",
    "    print(char *3)\n",
    "#to loop the word python"
   ]
  },
  {
   "cell_type": "code",
   "execution_count": 3,
   "id": "9ff665df",
   "metadata": {},
   "outputs": [
    {
     "name": "stdout",
     "output_type": "stream",
     "text": [
      "pppyyyttthhhooonnn"
     ]
    }
   ],
   "source": [
    "word = 'python'\n",
    "for char in word:\n",
    "    print(char *3,end='')"
   ]
  },
  {
   "cell_type": "code",
   "execution_count": 4,
   "id": "95438c4f",
   "metadata": {},
   "outputs": [
    {
     "name": "stdout",
     "output_type": "stream",
     "text": [
      "ppp/yyy/ttt/hhh/ooo/nnn/"
     ]
    }
   ],
   "source": [
    "word = 'python'\n",
    "for char in word:\n",
    "    print(char *3,end='/')"
   ]
  },
  {
   "cell_type": "code",
   "execution_count": 5,
   "id": "df79bb2c",
   "metadata": {},
   "outputs": [
    {
     "name": "stdout",
     "output_type": "stream",
     "text": [
      "pythonpythonpython\n"
     ]
    }
   ],
   "source": [
    "word =['python']\n",
    "for char in word:\n",
    "    print(char *3)\n",
    "    #to print the complete word you put the word in a list instead of string"
   ]
  },
  {
   "cell_type": "code",
   "execution_count": 7,
   "id": "cb588f1f",
   "metadata": {},
   "outputs": [
    {
     "name": "stdout",
     "output_type": "stream",
     "text": [
      " hey Mercy, this is a reminder of our meeting on friday, 12pm\n",
      " hey Joy, this is a reminder of our meeting on friday, 12pm\n",
      " hey Mary, this is a reminder of our meeting on friday, 12pm\n",
      " hey Jecinta, this is a reminder of our meeting on friday, 12pm\n",
      " hey Ana, this is a reminder of our meeting on friday, 12pm\n"
     ]
    }
   ],
   "source": [
    "# have list of five friends\n",
    "# hey {name}, thiis is a reminder of ou meeting on friday, 12pm\n",
    " name5 = ['Mercy', 'Joy', 'Mary', 'Jecinta', 'Ana']\n",
    "for name in name5 :\n",
    "    print(f' hey {name}, this is a reminder of our meeting on friday, 12pm')\n"
   ]
  },
  {
   "cell_type": "code",
   "execution_count": 10,
   "id": "1fe9449e",
   "metadata": {},
   "outputs": [
    {
     "name": "stdout",
     "output_type": "stream",
     "text": [
      "the total cost of item in the cart is N51000.0\n"
     ]
    }
   ],
   "source": [
    "#WRITE A PROGRAM TO CHECK IF AN ITEM IN STOCK AND CALCULATE THE TOTAL COST OF ITEM IN THE CART\n",
    "Products  = {\n",
    "    'item1':{'Name':'Big Burger','Price':3000.00,'Stock':30},\n",
    "    'item2':{'Name':'Small Burger','Price':1500.00,'Stock':60},\n",
    "    'item3':{'Name':'Chicken pie','Price':900.00,'Stock':100},\n",
    "}\n",
    "cart = []\n",
    "totalcost = 0\n",
    "cart.append(('item1',5))\n",
    "cart.append(('item2',15))\n",
    "cart.append(('item3',15))\n",
    "for item in cart:\n",
    "    id,quantity = item\n",
    "    if id in Products and Products[id]['Stock']>= quantity:\n",
    "    totalcost += Products[id]['Price'] *quantity\n",
    "        #totalcost = totalcost +(products[id]['pprice'] *quantity) also same as the previous line\n",
    "    else:\n",
    "        print('product out of stock')\n",
    "if totalcost > 0:\n",
    "    print(f'the total cost of item in the cart is N{totalcost}')\n",
    "else:\n",
    "    print('No item in the cart')"
   ]
  },
  {
   "cell_type": "code",
   "execution_count": 12,
   "id": "2bb16556",
   "metadata": {},
   "outputs": [
    {
     "name": "stdout",
     "output_type": "stream",
     "text": [
      "Enter A Number:43\n",
      "The SQRT of 43 is 6.557438524302\n",
      "Enter A Number93\n",
      "The SQRT of 93 is 9.643650760992955\n",
      "Enter A Number20\n",
      "The SQRT of 20 is 4.47213595499958\n",
      "Enter A Number0\n"
     ]
    }
   ],
   "source": [
    "username = int(input('Enter A Number:'))\n",
    "import math\n",
    "counter = 0\n",
    "while username != 0:\n",
    "    print(f'The SQRT of {username} is {math.sqrt(username)}')\n",
    "    counter +=1\n",
    "    username = int(input('Enter A Number'))"
   ]
  },
  {
   "cell_type": "code",
   "execution_count": 13,
   "id": "663e1f6c",
   "metadata": {},
   "outputs": [
    {
     "name": "stdout",
     "output_type": "stream",
     "text": [
      "3\n"
     ]
    }
   ],
   "source": [
    "print(counter)"
   ]
  },
  {
   "cell_type": "code",
   "execution_count": 27,
   "id": "a092809c",
   "metadata": {},
   "outputs": [
    {
     "name": "stdout",
     "output_type": "stream",
     "text": [
      "Enter your username:Jecinta\n",
      "Enter your password:Jessy123\n",
      "Login failed\n",
      "Enter your username:Jecinta\n",
      "Enter your password:jessy123\n",
      "Access Granted.....\n"
     ]
    }
   ],
   "source": [
    "#WRITE A SIMPLE AUTHENTICATION SYSTEM THAT CHECKS A USERS CREDENTIALS TO ALLOW MAXIMUM ATTEMPT OF 3 TIMES LOGIN\n",
    "max_amount = 3\n",
    "login_attempt = 0\n",
    "correctusername = 'Jecinta'\n",
    "correctpassword = 'jessy123'\n",
    "while login_attempt < max_amount:\n",
    "    username = input('Enter your username:')\n",
    "    password = input('Enter your password:')\n",
    "    if username == correctusername and password == correctpassword:\n",
    "        print('Access Granted.....')\n",
    "        break\n",
    "    else:\n",
    "        print('Login failed')\n",
    "        login_attempt +=1\n",
    "if login_attempt == max_amount:\n",
    "    print('Maximum Login Reached. Account Locked')"
   ]
  },
  {
   "cell_type": "code",
   "execution_count": 25,
   "id": "740d34c4",
   "metadata": {},
   "outputs": [
    {
     "name": "stdout",
     "output_type": "stream",
     "text": [
      "Enter your username:67\n",
      "67 x 1 = 67\n",
      "67 x 2 = 134\n",
      "67 x 3 = 201\n",
      "67 x 4 = 268\n",
      "67 x 5 = 335\n",
      "67 x 6 = 402\n",
      "67 x 7 = 469\n",
      "67 x 8 = 536\n",
      "67 x 9 = 603\n",
      "67 x 10 = 670\n",
      "67 x 11 = 737\n",
      "67 x 12 = 804\n"
     ]
    }
   ],
   "source": [
    "#use a while loop to generate a time table from 1 to 12 with a users number\n",
    "username = int(input('Enter your username:'))\n",
    "counter = 1\n",
    "while counter <=12:\n",
    "    print(f'{username} x {counter} = {username *counter}')\n",
    "    counter +=1"
   ]
  },
  {
   "cell_type": "code",
   "execution_count": null,
   "id": "a77bc203",
   "metadata": {},
   "outputs": [],
   "source": []
  }
 ],
 "metadata": {
  "kernelspec": {
   "display_name": "Python 3 (ipykernel)",
   "language": "python",
   "name": "python3"
  },
  "language_info": {
   "codemirror_mode": {
    "name": "ipython",
    "version": 3
   },
   "file_extension": ".py",
   "mimetype": "text/x-python",
   "name": "python",
   "nbconvert_exporter": "python",
   "pygments_lexer": "ipython3",
   "version": "3.11.5"
  }
 },
 "nbformat": 4,
 "nbformat_minor": 5
}
