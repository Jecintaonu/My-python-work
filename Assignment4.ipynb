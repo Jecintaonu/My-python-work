{
 "cells": [
  {
   "cell_type": "markdown",
   "id": "07469d07",
   "metadata": {},
   "source": [
    "#write a program to roll a dice between two users 10 times and the overall winner should be stated \n",
    "#Note use any of the loop"
   ]
  },
  {
   "cell_type": "code",
   "execution_count": null,
   "id": "2d18a502",
   "metadata": {},
   "outputs": [],
   "source": [
    "import math\n",
    "max_attempt = 10\n",
    "dice_thrown = 0\n",
    "dicesides = 6\n",
    "while dice_thrown <= max_attempt:\n",
    "    user1 = int(input('Enter a number from user2:'))\n",
    "    user2 = int(input('Enter a number from user1:'))\n",
    "if user1 <= dicesides and user2 <= dicesides:\n",
    "    print(f'''{user1} / {dicesides} = {user1 / dicesides}\n",
    "         {user2} / {dicesides} = {user2 / dicesides}''')\n",
    "    break\n",
    "else:\n",
    "    print('number is invalid')\n",
    "    dice_thrown +=1"
   ]
  },
  {
   "cell_type": "code",
   "execution_count": null,
   "id": "b53da1fe",
   "metadata": {},
   "outputs": [],
   "source": []
  }
 ],
 "metadata": {
  "kernelspec": {
   "display_name": "Python 3 (ipykernel)",
   "language": "python",
   "name": "python3"
  },
  "language_info": {
   "codemirror_mode": {
    "name": "ipython",
    "version": 3
   },
   "file_extension": ".py",
   "mimetype": "text/x-python",
   "name": "python",
   "nbconvert_exporter": "python",
   "pygments_lexer": "ipython3",
   "version": "3.11.5"
  }
 },
 "nbformat": 4,
 "nbformat_minor": 5
}
