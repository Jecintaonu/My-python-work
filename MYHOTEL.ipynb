{
 "cells": [
  {
   "cell_type": "code",
   "execution_count": 4,
   "id": "b11cdc0d",
   "metadata": {},
   "outputs": [],
   "source": [
    " import pymysql"
   ]
  },
  {
   "cell_type": "code",
   "execution_count": 5,
   "id": "9fb1b862",
   "metadata": {},
   "outputs": [],
   "source": [
    "mydb = pymysql.connect(\n",
    "    host = 'localhost',\n",
    "    port =3306,\n",
    "    user ='root',\n",
    "    password = 'Jessy94.'\n",
    ")\n",
    "mycursor = mydb.cursor()"
   ]
  },
  {
   "cell_type": "code",
   "execution_count": 6,
   "id": "3985b9aa",
   "metadata": {},
   "outputs": [
    {
     "name": "stdout",
     "output_type": "stream",
     "text": [
      "('dayspring_hotel',)\n",
      "('earlycodeacademy',)\n",
      "('goldtouch_hotel',)\n",
      "('information_schema',)\n",
      "('j_weac_system',)\n",
      "('my_work',)\n",
      "('mysql',)\n",
      "('performance_schema',)\n",
      "('prime_academy',)\n",
      "('primeacademy',)\n",
      "('sakila',)\n",
      "('sys',)\n",
      "('world',)\n"
     ]
    }
   ],
   "source": [
    "#mycursor.execute('create database dayspring_hotel')\n",
    "mycursor.execute('show databases')\n",
    "for x in mycursor:\n",
    "    print(x)\n"
   ]
  },
  {
   "cell_type": "code",
   "execution_count": 7,
   "id": "3e1ee879",
   "metadata": {},
   "outputs": [],
   "source": [
    "mydb = pymysql.connect(\n",
    "    host = 'localhost',\n",
    "    port = 3306,\n",
    "    user = 'root',\n",
    "    password = 'Jessy94.',\n",
    "    database = 'dayspring_hotel'\n",
    ")\n",
    "mycursor = mydb.cursor()"
   ]
  },
  {
   "cell_type": "code",
   "execution_count": 8,
   "id": "25f9553f",
   "metadata": {},
   "outputs": [
    {
     "name": "stdout",
     "output_type": "stream",
     "text": [
      "('ID', 'int', 'NO', 'PRI', None, '')\n",
      "('NAME', 'varchar(255)', 'NO', '', None, '')\n",
      "('GENDER', 'varchar(50)', 'NO', '', None, '')\n",
      "('ADDRESS', 'text', 'NO', '', None, '')\n",
      "('OCCUPATION', 'varchar(255)', 'NO', '', None, '')\n",
      "('DATE', 'varchar(200)', 'NO', '', None, '')\n",
      "('RESERVATION', 'varchar(10)', 'NO', '', None, '')\n",
      "('CHECKIN_DATE', 'varchar(100)', 'NO', '', None, '')\n",
      "('CHECKOUT_DATE', 'varchar(200)', 'NO', '', None, '')\n",
      "('NUMBEROFNIGHTS', 'int', 'NO', '', None, '')\n",
      "('ROOM_TYPE', 'varchar(255)', 'NO', '', None, '')\n",
      "('ARRIVAL_FROM', 'text', 'NO', '', None, '')\n",
      "('DESTINATION', 'text', 'NO', '', None, '')\n",
      "('ROOMRATE', 'int', 'NO', '', None, '')\n"
     ]
    }
   ],
   "source": [
    "#mycursor.execute('create table DAYSPRING_HOTEL_RECORD(ID int primary key not null, NAME varchar(255) not null, GENDER varchar(50) not null, ADDRESS text not null, OCCUPATION varchar(255) not null, DATE varchar(200) not null, ARRIVAL_FROM text not null, DESTINATION text not null,RESERVATION varchar(10) not null, CHECKIN_DATE varchar(100) not null, CHECKOUT_DATE varchar(200) not null, NUMBEROFNIGHTS int not null, ROOM_TYPE varchar(255) not null)')\n",
    "mycursor.execute('show columns from DAYSPRING_HOTEL_RECORD')\n",
    "for x in mycursor:\n",
    "    print(x)"
   ]
  },
  {
   "cell_type": "code",
   "execution_count": 9,
   "id": "e4012b74",
   "metadata": {},
   "outputs": [
    {
     "ename": "OperationalError",
     "evalue": "(1060, \"Duplicate column name 'ROOMRATE'\")",
     "output_type": "error",
     "traceback": [
      "\u001b[1;31m---------------------------------------------------------------------------\u001b[0m",
      "\u001b[1;31mOperationalError\u001b[0m                          Traceback (most recent call last)",
      "Cell \u001b[1;32mIn[9], line 2\u001b[0m\n\u001b[0;32m      1\u001b[0m query \u001b[38;5;241m=\u001b[39m \u001b[38;5;124m'\u001b[39m\u001b[38;5;124malter table DAYSPRING_HOTEL_RECORD add column ROOMRATE int not null\u001b[39m\u001b[38;5;124m'\u001b[39m \n\u001b[1;32m----> 2\u001b[0m mycursor\u001b[38;5;241m.\u001b[39mexecute(query)\n\u001b[0;32m      3\u001b[0m \u001b[38;5;28;01mfor\u001b[39;00m x \u001b[38;5;129;01min\u001b[39;00m mycursor:\n\u001b[0;32m      4\u001b[0m     \u001b[38;5;28mprint\u001b[39m(x)\n",
      "File \u001b[1;32m~\\AppData\\Local\\anaconda3\\Lib\\site-packages\\pymysql\\cursors.py:148\u001b[0m, in \u001b[0;36mCursor.execute\u001b[1;34m(self, query, args)\u001b[0m\n\u001b[0;32m    144\u001b[0m     \u001b[38;5;28;01mpass\u001b[39;00m\n\u001b[0;32m    146\u001b[0m query \u001b[38;5;241m=\u001b[39m \u001b[38;5;28mself\u001b[39m\u001b[38;5;241m.\u001b[39mmogrify(query, args)\n\u001b[1;32m--> 148\u001b[0m result \u001b[38;5;241m=\u001b[39m \u001b[38;5;28mself\u001b[39m\u001b[38;5;241m.\u001b[39m_query(query)\n\u001b[0;32m    149\u001b[0m \u001b[38;5;28mself\u001b[39m\u001b[38;5;241m.\u001b[39m_executed \u001b[38;5;241m=\u001b[39m query\n\u001b[0;32m    150\u001b[0m \u001b[38;5;28;01mreturn\u001b[39;00m result\n",
      "File \u001b[1;32m~\\AppData\\Local\\anaconda3\\Lib\\site-packages\\pymysql\\cursors.py:310\u001b[0m, in \u001b[0;36mCursor._query\u001b[1;34m(self, q)\u001b[0m\n\u001b[0;32m    308\u001b[0m \u001b[38;5;28mself\u001b[39m\u001b[38;5;241m.\u001b[39m_last_executed \u001b[38;5;241m=\u001b[39m q\n\u001b[0;32m    309\u001b[0m \u001b[38;5;28mself\u001b[39m\u001b[38;5;241m.\u001b[39m_clear_result()\n\u001b[1;32m--> 310\u001b[0m conn\u001b[38;5;241m.\u001b[39mquery(q)\n\u001b[0;32m    311\u001b[0m \u001b[38;5;28mself\u001b[39m\u001b[38;5;241m.\u001b[39m_do_get_result()\n\u001b[0;32m    312\u001b[0m \u001b[38;5;28;01mreturn\u001b[39;00m \u001b[38;5;28mself\u001b[39m\u001b[38;5;241m.\u001b[39mrowcount\n",
      "File \u001b[1;32m~\\AppData\\Local\\anaconda3\\Lib\\site-packages\\pymysql\\connections.py:548\u001b[0m, in \u001b[0;36mConnection.query\u001b[1;34m(self, sql, unbuffered)\u001b[0m\n\u001b[0;32m    546\u001b[0m     sql \u001b[38;5;241m=\u001b[39m sql\u001b[38;5;241m.\u001b[39mencode(\u001b[38;5;28mself\u001b[39m\u001b[38;5;241m.\u001b[39mencoding, \u001b[38;5;124m\"\u001b[39m\u001b[38;5;124msurrogateescape\u001b[39m\u001b[38;5;124m\"\u001b[39m)\n\u001b[0;32m    547\u001b[0m \u001b[38;5;28mself\u001b[39m\u001b[38;5;241m.\u001b[39m_execute_command(COMMAND\u001b[38;5;241m.\u001b[39mCOM_QUERY, sql)\n\u001b[1;32m--> 548\u001b[0m \u001b[38;5;28mself\u001b[39m\u001b[38;5;241m.\u001b[39m_affected_rows \u001b[38;5;241m=\u001b[39m \u001b[38;5;28mself\u001b[39m\u001b[38;5;241m.\u001b[39m_read_query_result(unbuffered\u001b[38;5;241m=\u001b[39munbuffered)\n\u001b[0;32m    549\u001b[0m \u001b[38;5;28;01mreturn\u001b[39;00m \u001b[38;5;28mself\u001b[39m\u001b[38;5;241m.\u001b[39m_affected_rows\n",
      "File \u001b[1;32m~\\AppData\\Local\\anaconda3\\Lib\\site-packages\\pymysql\\connections.py:775\u001b[0m, in \u001b[0;36mConnection._read_query_result\u001b[1;34m(self, unbuffered)\u001b[0m\n\u001b[0;32m    773\u001b[0m \u001b[38;5;28;01melse\u001b[39;00m:\n\u001b[0;32m    774\u001b[0m     result \u001b[38;5;241m=\u001b[39m MySQLResult(\u001b[38;5;28mself\u001b[39m)\n\u001b[1;32m--> 775\u001b[0m     result\u001b[38;5;241m.\u001b[39mread()\n\u001b[0;32m    776\u001b[0m \u001b[38;5;28mself\u001b[39m\u001b[38;5;241m.\u001b[39m_result \u001b[38;5;241m=\u001b[39m result\n\u001b[0;32m    777\u001b[0m \u001b[38;5;28;01mif\u001b[39;00m result\u001b[38;5;241m.\u001b[39mserver_status \u001b[38;5;129;01mis\u001b[39;00m \u001b[38;5;129;01mnot\u001b[39;00m \u001b[38;5;28;01mNone\u001b[39;00m:\n",
      "File \u001b[1;32m~\\AppData\\Local\\anaconda3\\Lib\\site-packages\\pymysql\\connections.py:1156\u001b[0m, in \u001b[0;36mMySQLResult.read\u001b[1;34m(self)\u001b[0m\n\u001b[0;32m   1154\u001b[0m \u001b[38;5;28;01mdef\u001b[39;00m \u001b[38;5;21mread\u001b[39m(\u001b[38;5;28mself\u001b[39m):\n\u001b[0;32m   1155\u001b[0m     \u001b[38;5;28;01mtry\u001b[39;00m:\n\u001b[1;32m-> 1156\u001b[0m         first_packet \u001b[38;5;241m=\u001b[39m \u001b[38;5;28mself\u001b[39m\u001b[38;5;241m.\u001b[39mconnection\u001b[38;5;241m.\u001b[39m_read_packet()\n\u001b[0;32m   1158\u001b[0m         \u001b[38;5;28;01mif\u001b[39;00m first_packet\u001b[38;5;241m.\u001b[39mis_ok_packet():\n\u001b[0;32m   1159\u001b[0m             \u001b[38;5;28mself\u001b[39m\u001b[38;5;241m.\u001b[39m_read_ok_packet(first_packet)\n",
      "File \u001b[1;32m~\\AppData\\Local\\anaconda3\\Lib\\site-packages\\pymysql\\connections.py:725\u001b[0m, in \u001b[0;36mConnection._read_packet\u001b[1;34m(self, packet_type)\u001b[0m\n\u001b[0;32m    723\u001b[0m     \u001b[38;5;28;01mif\u001b[39;00m \u001b[38;5;28mself\u001b[39m\u001b[38;5;241m.\u001b[39m_result \u001b[38;5;129;01mis\u001b[39;00m \u001b[38;5;129;01mnot\u001b[39;00m \u001b[38;5;28;01mNone\u001b[39;00m \u001b[38;5;129;01mand\u001b[39;00m \u001b[38;5;28mself\u001b[39m\u001b[38;5;241m.\u001b[39m_result\u001b[38;5;241m.\u001b[39munbuffered_active \u001b[38;5;129;01mis\u001b[39;00m \u001b[38;5;28;01mTrue\u001b[39;00m:\n\u001b[0;32m    724\u001b[0m         \u001b[38;5;28mself\u001b[39m\u001b[38;5;241m.\u001b[39m_result\u001b[38;5;241m.\u001b[39munbuffered_active \u001b[38;5;241m=\u001b[39m \u001b[38;5;28;01mFalse\u001b[39;00m\n\u001b[1;32m--> 725\u001b[0m     packet\u001b[38;5;241m.\u001b[39mraise_for_error()\n\u001b[0;32m    726\u001b[0m \u001b[38;5;28;01mreturn\u001b[39;00m packet\n",
      "File \u001b[1;32m~\\AppData\\Local\\anaconda3\\Lib\\site-packages\\pymysql\\protocol.py:221\u001b[0m, in \u001b[0;36mMysqlPacket.raise_for_error\u001b[1;34m(self)\u001b[0m\n\u001b[0;32m    219\u001b[0m \u001b[38;5;28;01mif\u001b[39;00m DEBUG:\n\u001b[0;32m    220\u001b[0m     \u001b[38;5;28mprint\u001b[39m(\u001b[38;5;124m\"\u001b[39m\u001b[38;5;124merrno =\u001b[39m\u001b[38;5;124m\"\u001b[39m, errno)\n\u001b[1;32m--> 221\u001b[0m err\u001b[38;5;241m.\u001b[39mraise_mysql_exception(\u001b[38;5;28mself\u001b[39m\u001b[38;5;241m.\u001b[39m_data)\n",
      "File \u001b[1;32m~\\AppData\\Local\\anaconda3\\Lib\\site-packages\\pymysql\\err.py:143\u001b[0m, in \u001b[0;36mraise_mysql_exception\u001b[1;34m(data)\u001b[0m\n\u001b[0;32m    141\u001b[0m \u001b[38;5;28;01mif\u001b[39;00m errorclass \u001b[38;5;129;01mis\u001b[39;00m \u001b[38;5;28;01mNone\u001b[39;00m:\n\u001b[0;32m    142\u001b[0m     errorclass \u001b[38;5;241m=\u001b[39m InternalError \u001b[38;5;28;01mif\u001b[39;00m errno \u001b[38;5;241m<\u001b[39m \u001b[38;5;241m1000\u001b[39m \u001b[38;5;28;01melse\u001b[39;00m OperationalError\n\u001b[1;32m--> 143\u001b[0m \u001b[38;5;28;01mraise\u001b[39;00m errorclass(errno, errval)\n",
      "\u001b[1;31mOperationalError\u001b[0m: (1060, \"Duplicate column name 'ROOMRATE'\")"
     ]
    }
   ],
   "source": [
    "query = 'alter table DAYSPRING_HOTEL_RECORD add column ROOMRATE int not null' \n",
    "mycursor.execute(query)\n",
    "for x in mycursor:\n",
    "    print(x)"
   ]
  },
  {
   "cell_type": "code",
   "execution_count": null,
   "id": "6efccbaa",
   "metadata": {},
   "outputs": [],
   "source": [
    "mycursor.execute('show columns from DAYSPRING_HOTEL_RECORD')\n",
    "for x in mycursor:\n",
    "    print(x)"
   ]
  },
  {
   "cell_type": "code",
   "execution_count": 10,
   "id": "443beedc",
   "metadata": {},
   "outputs": [],
   "source": [
    "def enter_record():\n",
    "    id = int(input('Enter guest ID;'))\n",
    "    name = input('Enter guest name:')\n",
    "    gender = input('Enter guest gender (Male/Female/Other):')\n",
    "    address = input('Enter guest address:')\n",
    "    occupation = input('Enter guest occupation:')\n",
    "    date = input('Enter todays date (DD/MM/YYYY):')\n",
    "    reservation = input('Enter reservation (YES/N0):')\n",
    "    checkin_date = input('Enter guest checkin date (DD/MM/YYYY):')\n",
    "    checkout_date = input('Enter guest checkout date (DD/MM/YYYY):')\n",
    "    numberofnights = int(input('Enter the number of nights the guest intend to spend:'))\n",
    "    room_type = input('Enter preferred room type:')\n",
    "    arrival_from = input('Enter guest arrival location:')\n",
    "    destination = input('Enter guest destination')\n",
    "    roomrate = int(input('Enter room rate:'))\n",
    "    \n",
    "    query = 'insert into DAYSPRING_HOTEL_RECORD(id,name,gender,address,occupation,date,reservation,checkin_date,checkout_date,numberofnights,room_type,arrival_from,destination,roomrate) values(%s,%s,%s,%s,%s,%s,%s,%s,%s,%s,%s,%s,%s,%s)'\n",
    "    mycursor.execute(query,(id,name,gender,address,occupation,date,reservation,checkin_date,checkout_date,numberofnights,room_type,arrival_from,destination,roomrate))\n",
    "    mydb.commit()\n",
    "    print('Details Entered Successfully....')\n",
    "    \n",
    "def display_records():\n",
    "    query = 'select * from DAYSPRING_HOTEL_RECORD'\n",
    "    mycursor.execute(query)\n",
    "    for x in mycursor:\n",
    "        print(x)\n",
    "        \n",
    "def search_record():\n",
    "    id = input('Enter guest ID:')\n",
    "    query = 'select * from DAYSPRING_HOTEL_RECORD where id=%s'\n",
    "    mycursor.execute(query,(id,))\n",
    "    for x in mycursor:\n",
    "        print(x)\n",
    "        \n",
    "def update_record():\n",
    "    id = ('Enter guest ID to be updated:')\n",
    "    column =('Enter column to be updated:')\n",
    "    newval = ('Enter new value:')\n",
    "    query = 'update DAYSPRING_HOTEL_RECORD set {column} = %s, where id=%s'\n",
    "    mycursor.execute(query,(id,newval))\n",
    "    mydb.commit()\n",
    "    print('Record updated successfully....')\n",
    "    \n",
    "def archive_record():\n",
    "    id =input('Enter guest ID to be deleted:')\n",
    "    query ='delete from DAYSPRING_HOTEL_RECORD where id=%s'\n",
    "    mycursor.execute(query,(id,))\n",
    "    print('Record deleted successfully....')\n",
    "    \n",
    "    \n",
    "def calculate_bill():\n",
    "    id = input('Enter guest ID:')\n",
    "    query='select id,room_type,roomrate,numberofnights, (numberofnights*roomrate) as BILL from DAYSPRING_HOTEL_RECORD where id=%s'\n",
    "    mycursor.execute(query,(id,))\n",
    "    for x in mycursor:\n",
    "        print(x)\n",
    "    \n",
    "    \n",
    "def main():\n",
    "    print('WELCOME TO DAYSPRING HOTEL\\n Your Comfort Our Priority')\n",
    "    print('''ROOMTYPES AND RATES:\\n Superior - N15000\\n Executive - N20000\\n Diplomatic - N25000\\n Royal - N30000''' )\n",
    "    print('operation list [enter, display, search, update,acrhive, calculatebill]')\n",
    "    operation = True\n",
    "    while operation:\n",
    "        option = input('select operation:')\n",
    "        if option =='enter'.lower():\n",
    "            enter_record()\n",
    "        elif option == 'Display'.lower():\n",
    "            display_records()\n",
    "        elif option == 'Search'.lower():\n",
    "            search_record()\n",
    "        elif option == 'Update'.lower():\n",
    "            update_record()\n",
    "        elif option == 'Archive'.lower():\n",
    "            archive_record() \n",
    "        elif option == 'calculatebill'.lower():\n",
    "            calculate_bill()\n",
    "        elif option == 'logout'.lower():\n",
    "            operation =False\n",
    "            print('OPERATION TERMINATED.......')\n",
    "            break\n",
    "    \n",
    "            \n",
    "               \n",
    "               \n",
    "    \n"
   ]
  },
  {
   "cell_type": "code",
   "execution_count": null,
   "id": "a635d46b",
   "metadata": {},
   "outputs": [
    {
     "name": "stdout",
     "output_type": "stream",
     "text": [
      "WELCOME TO DAYSPRING HOTEL\n",
      " Your Comfort Our Priority\n",
      "ROOMTYPES AND RATES:\n",
      " Superior - N15000\n",
      " Executive - N20000\n",
      " Diplomatic - N25000\n",
      " Royal - N30000\n",
      "operation list [enter, display, search, update,acrhive, calculatebill]\n",
      "select operation:calculatebill\n",
      "Enter guest ID:002\n",
      "(2, 'superior', 15000, 3, 45000)\n"
     ]
    }
   ],
   "source": [
    "main()"
   ]
  },
  {
   "cell_type": "raw",
   "id": "304d8d39",
   "metadata": {},
   "source": []
  },
  {
   "cell_type": "code",
   "execution_count": null,
   "id": "deb4cf8f",
   "metadata": {},
   "outputs": [],
   "source": [
    "#vs code download on chrome\n",
    "# on the windows\n",
    "##pip install numpy, pandas, matplolid, seaborn,plotly, scikit_learn, nitk, wordcloud, wheel\n",
    "# missingno, xlsxwritter, nbformat >=4.2.0, scipy, ipykernel"
   ]
  }
 ],
 "metadata": {
  "kernelspec": {
   "display_name": "Python 3 (ipykernel)",
   "language": "python",
   "name": "python3"
  },
  "language_info": {
   "codemirror_mode": {
    "name": "ipython",
    "version": 3
   },
   "file_extension": ".py",
   "mimetype": "text/x-python",
   "name": "python",
   "nbconvert_exporter": "python",
   "pygments_lexer": "ipython3",
   "version": "3.11.5"
  }
 },
 "nbformat": 4,
 "nbformat_minor": 5
}
