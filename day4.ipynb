{
 "cells": [
  {
   "cell_type": "code",
   "execution_count": 2,
   "id": "aba7fa4a",
   "metadata": {},
   "outputs": [
    {
     "name": "stdout",
     "output_type": "stream",
     "text": [
      "['__doc__', '__loader__', '__name__', '__package__', '__spec__', 'acos', 'acosh', 'asin', 'asinh', 'atan', 'atan2', 'atanh', 'cbrt', 'ceil', 'comb', 'copysign', 'cos', 'cosh', 'degrees', 'dist', 'e', 'erf', 'erfc', 'exp', 'exp2', 'expm1', 'fabs', 'factorial', 'floor', 'fmod', 'frexp', 'fsum', 'gamma', 'gcd', 'hypot', 'inf', 'isclose', 'isfinite', 'isinf', 'isnan', 'isqrt', 'lcm', 'ldexp', 'lgamma', 'log', 'log10', 'log1p', 'log2', 'modf', 'nan', 'nextafter', 'perm', 'pi', 'pow', 'prod', 'radians', 'remainder', 'sin', 'sinh', 'sqrt', 'tan', 'tanh', 'tau', 'trunc', 'ulp']\n"
     ]
    }
   ],
   "source": [
    "import math\n",
    "print(dir(math))"
   ]
  },
  {
   "cell_type": "code",
   "execution_count": 4,
   "id": "27697437",
   "metadata": {},
   "outputs": [
    {
     "name": "stdout",
     "output_type": "stream",
     "text": [
      "14\n",
      "15\n",
      "-0.47312369706467594\n"
     ]
    }
   ],
   "source": [
    "number=14.63\n",
    "print(math.floor(number))\n",
    "print(math.ceil(number))\n",
    "print(math.cos(number))"
   ]
  },
  {
   "cell_type": "code",
   "execution_count": 1,
   "id": "338cc966",
   "metadata": {},
   "outputs": [
    {
     "ename": "NameError",
     "evalue": "name 'math' is not defined",
     "output_type": "error",
     "traceback": [
      "\u001b[1;31m---------------------------------------------------------------------------\u001b[0m",
      "\u001b[1;31mNameError\u001b[0m                                 Traceback (most recent call last)",
      "Cell \u001b[1;32mIn[1], line 1\u001b[0m\n\u001b[1;32m----> 1\u001b[0m math\u001b[38;5;241m.\u001b[39m\u001b[38;5;18m__doc__\u001b[39m\n",
      "\u001b[1;31mNameError\u001b[0m: name 'math' is not defined"
     ]
    }
   ],
   "source": [
    "math.__doc__"
   ]
  },
  {
   "cell_type": "code",
   "execution_count": 7,
   "id": "2c474610",
   "metadata": {},
   "outputs": [
    {
     "name": "stdout",
     "output_type": "stream",
     "text": [
      "['Counter', 'Decimal', 'Fraction', 'LinearRegression', 'NormalDist', 'StatisticsError', '_SQRT2', '__all__', '__annotations__', '__builtins__', '__cached__', '__doc__', '__file__', '__loader__', '__name__', '__package__', '__spec__', '_coerce', '_convert', '_decimal_sqrt_of_frac', '_exact_ratio', '_fail_neg', '_float_sqrt_of_frac', '_integer_sqrt_of_frac_rto', '_isfinite', '_mean_stdev', '_normal_dist_inv_cdf', '_sqrt_bit_width', '_ss', '_sum', 'bisect_left', 'bisect_right', 'correlation', 'covariance', 'defaultdict', 'erf', 'exp', 'fabs', 'fmean', 'fsum', 'geometric_mean', 'groupby', 'harmonic_mean', 'hypot', 'linear_regression', 'log', 'math', 'mean', 'median', 'median_grouped', 'median_high', 'median_low', 'mode', 'mul', 'multimode', 'namedtuple', 'numbers', 'pstdev', 'pvariance', 'quantiles', 'random', 'reduce', 'repeat', 'sqrt', 'stdev', 'sys', 'tau', 'variance']\n"
     ]
    }
   ],
   "source": [
    "import statistics as stat\n",
    "print(dir(stat))"
   ]
  },
  {
   "cell_type": "code",
   "execution_count": 8,
   "id": "93e91e81",
   "metadata": {},
   "outputs": [
    {
     "name": "stdout",
     "output_type": "stream",
     "text": [
      "81.33333333333333\n"
     ]
    }
   ],
   "source": [
    "score = [87,98,56,92,70,85]\n",
    "print(stat.mean(score))"
   ]
  },
  {
   "cell_type": "code",
   "execution_count": 9,
   "id": "8a0fc1cb",
   "metadata": {},
   "outputs": [
    {
     "name": "stdout",
     "output_type": "stream",
     "text": [
      "['BPF', 'LOG4', 'NV_MAGICCONST', 'RECIP_BPF', 'Random', 'SG_MAGICCONST', 'SystemRandom', 'TWOPI', '_ONE', '_Sequence', '_Set', '__all__', '__builtins__', '__cached__', '__doc__', '__file__', '__loader__', '__name__', '__package__', '__spec__', '_accumulate', '_acos', '_bisect', '_ceil', '_cos', '_e', '_exp', '_floor', '_index', '_inst', '_isfinite', '_log', '_os', '_pi', '_random', '_repeat', '_sha512', '_sin', '_sqrt', '_test', '_test_generator', '_urandom', '_warn', 'betavariate', 'choice', 'choices', 'expovariate', 'gammavariate', 'gauss', 'getrandbits', 'getstate', 'lognormvariate', 'normalvariate', 'paretovariate', 'randbytes', 'randint', 'random', 'randrange', 'sample', 'seed', 'setstate', 'shuffle', 'triangular', 'uniform', 'vonmisesvariate', 'weibullvariate']\n"
     ]
    }
   ],
   "source": [
    "import random as rn\n",
    "print(dir(rn))"
   ]
  },
  {
   "cell_type": "code",
   "execution_count": 10,
   "id": "87e620bd",
   "metadata": {},
   "outputs": [],
   "source": [
    "# string, re datetime\n",
    "#conditional statement\n",
    "#is a way of writting a flow of logic "
   ]
  },
  {
   "cell_type": "code",
   "execution_count": 11,
   "id": "4b91d3de",
   "metadata": {},
   "outputs": [],
   "source": [
    "#if condition\n",
    "#for the if only condition the expression is returned only if the preset condition is true and no outcome if the preset condition is false"
   ]
  },
  {
   "cell_type": "code",
   "execution_count": 19,
   "id": "91230c3c",
   "metadata": {},
   "outputs": [
    {
     "name": "stdout",
     "output_type": "stream",
     "text": [
      "please enter chicken weight in KG:1.0\n",
      "your total price is 2000.0\n"
     ]
    }
   ],
   "source": [
    "\n",
    "\n",
    "chickenKG = float(input('please enter chicken weight in KG:'))\n",
    "perkgprice = 2000\n",
    "if chickenKG >= 1:\n",
    "    print(f'your total price is {chickenKG * perkgprice}')"
   ]
  },
  {
   "cell_type": "code",
   "execution_count": 8,
   "id": "a1044258",
   "metadata": {},
   "outputs": [
    {
     "name": "stdout",
     "output_type": "stream",
     "text": [
      "please enter chicken weight in KG:20\n",
      "your total price is 40000.0\n"
     ]
    }
   ],
   "source": [
    "chickenKG = float(input('please enter chicken weight in KG:'))\n",
    "perkgprice = 2000\n",
    "if chickenKG >= 1:\n",
    "    print(f'your total price is {chickenKG * perkgprice}')"
   ]
  },
  {
   "cell_type": "code",
   "execution_count": 23,
   "id": "603a3db7",
   "metadata": {},
   "outputs": [
    {
     "name": "stdout",
     "output_type": "stream",
     "text": [
      "please enter chicken weight in KG:0.5\n",
      "you are free to go the chicken kg is not a chargeable amount.\n"
     ]
    }
   ],
   "source": [
    "#IF ELSE CONDITION\n",
    "\n",
    "chickenKG = float(input('please enter chicken weight in KG:'))\n",
    "perkgprice = 2000\n",
    "if chickenKG >= 1:\n",
    "    print(f'your total price is {chickenKG * perkgprice}')\n",
    "else:\n",
    "    print('you are free to go the chicken kg is not a chargeable amount.')\n",
    "#note about the if else condition:\"for the if else condition the expression is returned if the if preset condition is true and \n",
    "# the expression under the else is returned if the condition is false\"\n",
    "    "
   ]
  },
  {
   "cell_type": "code",
   "execution_count": 10,
   "id": "d45cc5dc",
   "metadata": {},
   "outputs": [
    {
     "name": "stdout",
     "output_type": "stream",
     "text": [
      "shipment Region:South South\n",
      "Item Weight in kg:5\n",
      "item condition:Fragile\n",
      "item Quantity:3\n",
      "Enter item cost:5000\n",
      "Item Quantity: 3.0\n",
      "    Item Cost: 15000.0\n",
      "    Shipping Fee: 150.0\n",
      "    Total cost plus shipment is 15150.0\n"
     ]
    }
   ],
   "source": [
    "#QUESTION1\n",
    "### You have been employed as a developer at EarlyCode Store, and your task is to design a shipment cost calculation\n",
    "#system for item shipments across six regions in Nigeria: South-South, South-East, South-West, North-Central,\n",
    "#North-West, and North-East. The pricing criteria vary based on weight and condition (fragile or non-fragile). \n",
    "#The pricing details for each region and condition are as follows:\n",
    "### South-South Region:\n",
    "### Fragile: Naira 10 per kilogram\n",
    "### Non-Fragile: Naira 8 per kilogram\n",
    "### South-East Region:\n",
    "### Fragile: Naira 12 per kilogram\n",
    "### Non-Fragile: Naira 9 per kilogram\n",
    "### South-West Region:\n",
    "### Fragile: Naira 11 per kilogram\n",
    "### Non-Fragile: Naira 7 per kilogram\n",
    "### North-Central Region:\n",
    "### Fragile: Naira 9 per kilogram\n",
    "### Non-Fragile: Naira 6 per kilogram\n",
    "### North-West Region:\n",
    "### Fragile: Naira 13 per kilogram\n",
    "### Non-Fragile: Naira 8.5 per kilogram\n",
    "### North-East Region:\n",
    "### Fragile: Naira 14 per kilogram\n",
    "### Non-Fragile: Naira 7.5 per kilogram\n",
    "### Your system should factor in the quantity of items being shipped to calculate the total shipment cost for\n",
    "#each combination of region, weight, and condit\n",
    "\n",
    "region = input('shipment Region:')\n",
    "weight = float(input('Item Weight in kg:'))\n",
    "condition = input('item condition:')\n",
    "quantity = float(input('item Quantity:'))\n",
    "costperitem = float(input('Enter item cost:'))\n",
    "if region == 'South South' and condition == 'Fragile':\n",
    "    print(f'''Item Quantity: {quantity}\n",
    "    Item Cost: {(quantity * costperitem)}\n",
    "    Shipping Fee: {(weight * 10 * quantity)}\n",
    "    Total cost plus shipment is {(weight * 10 * quantity) +(quantity * costperitem)}''')\n",
    "elif region == 'South South' and condition == 'Non Fragile':\n",
    "    print(f'Total Cost plus shipment is {(weight * 8* quantity) +(quantity * costperitem)}')\n",
    "elif region == 'South East' and condition == 'Non Fragile':\n",
    "    print(f'Total Cost plus shipment is {(weight * 9* quantity) +(quantity * costperitem)}')\n",
    "elif region == 'South East' and condition == 'Fragile':\n",
    "    print(f'Total Cost plus shipment is {(weight * 12* quantity) +(quantity * costperitem)}')\n",
    "elif region == 'South West' and condition == 'Fragile':\n",
    "    print(f'Total Cost plus shipment is {(weight * 11 * quantity) +(quantity * costperitem)}')\n",
    "elif region == 'South West' and condition == 'Non Fragile':\n",
    "    print(f'Total Cost plus shipment is {(weight * 7 * quantity) +(quantity * costperitem)}') \n",
    "elif region == 'South Central' and condition == 'Fragile':\n",
    "    print(f'Total Cost plus shipment is {(weight * 9 * quantity) +(quantity * costperitem)}')\n",
    "elif region == 'South Central' and condition == 'Non Fragile':\n",
    "    print(f'Total Cost plus shipment is {(weight * 6 * quantity) +(quantity * costperitem)}')\n",
    "elif region == 'North West' and condition == 'Fragile':\n",
    "    print(f'Total Cost plus shipment is {(weight * 13 * quantity) +(quantity * costperitem)}')\n",
    "elif region == 'North West' and condition == 'Non Fragile':\n",
    "    print(f'Total Cost plus shipment is {(weight * 8.5 * quantity) +(quantity * costperitem)}')\n",
    "elif region == 'North East' and condition == 'Fragile':\n",
    "    print(f'''Item quantity:{quantity}\n",
    "    Item cost: {quantity * costperitem}\n",
    "    shipping fee: {(weight * 14 * quantity)}\n",
    "    Total Cost plus shipment is {(weight * 14* quantity) +(quantity * costperitem)}''')\n",
    "elif region == 'North East' and condition == 'Non Fragile':\n",
    "    print(f'Total Cost plus shipment is {(weight * 7.5 * quantity) +(quantity * costperitem)}')"
   ]
  },
  {
   "cell_type": "code",
   "execution_count": 7,
   "id": "d0b6af93",
   "metadata": {},
   "outputs": [
    {
     "name": "stdout",
     "output_type": "stream",
     "text": [
      "1\n"
     ]
    }
   ],
   "source": [
    "import random\n",
    "print(random.randint(1,6))"
   ]
  },
  {
   "cell_type": "code",
   "execution_count": null,
   "id": "45289c10",
   "metadata": {},
   "outputs": [],
   "source": []
  },
  {
   "cell_type": "code",
   "execution_count": null,
   "id": "e8863d83",
   "metadata": {},
   "outputs": [],
   "source": []
  }
 ],
 "metadata": {
  "kernelspec": {
   "display_name": "Python 3 (ipykernel)",
   "language": "python",
   "name": "python3"
  },
  "language_info": {
   "codemirror_mode": {
    "name": "ipython",
    "version": 3
   },
   "file_extension": ".py",
   "mimetype": "text/x-python",
   "name": "python",
   "nbconvert_exporter": "python",
   "pygments_lexer": "ipython3",
   "version": "3.11.5"
  }
 },
 "nbformat": 4,
 "nbformat_minor": 5
}
