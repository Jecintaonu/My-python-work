{
 "cells": [
  {
   "cell_type": "code",
   "execution_count": 3,
   "id": "4be93b6f",
   "metadata": {},
   "outputs": [],
   "source": [
    "import pymysql"
   ]
  },
  {
   "cell_type": "code",
   "execution_count": 4,
   "id": "6e072ebd",
   "metadata": {},
   "outputs": [],
   "source": [
    "mydb =pymysql.connect(\n",
    "host = 'localhost',\n",
    "port = 3306,\n",
    "user = 'root',\n",
    "password = 'Jessy94.'\n",
    ")\n",
    "mycursor = mydb.cursor()"
   ]
  },
  {
   "cell_type": "code",
   "execution_count": 5,
   "id": "88d99ea0",
   "metadata": {},
   "outputs": [
    {
     "name": "stdout",
     "output_type": "stream",
     "text": [
      "('dayspring_hotel',)\n",
      "('earlycodeacademy',)\n",
      "('information_schema',)\n",
      "('j_weac_system',)\n",
      "('my_work',)\n",
      "('mysql',)\n",
      "('performance_schema',)\n",
      "('prime_academy',)\n",
      "('primeacademy',)\n",
      "('sakila',)\n",
      "('sys',)\n",
      "('world',)\n"
     ]
    }
   ],
   "source": [
    "mycursor.execute('show databases')\n",
    "for x in mycursor:\n",
    "   print(x)"
   ]
  },
  {
   "cell_type": "code",
   "execution_count": 8,
   "id": "31d98072",
   "metadata": {},
   "outputs": [],
   "source": [
    "#EXERCISE\n",
    "#As a newly employed developer/programmer, our first task is to develop a student management system capable of accepting, searching,\n",
    "#displaying, updating, and archiving student records. with this goal in mind,\n",
    "#how would you proceed to ensure the systems funtionality and security?\n",
    "# pylint is used to grade your code"
   ]
  },
  {
   "cell_type": "code",
   "execution_count": 6,
   "id": "dfeb8b57",
   "metadata": {},
   "outputs": [
    {
     "name": "stdout",
     "output_type": "stream",
     "text": [
      "('dayspring_hotel',)\n",
      "('earlycodeacademy',)\n",
      "('information_schema',)\n",
      "('j_weac_system',)\n",
      "('my_work',)\n",
      "('mysql',)\n",
      "('performance_schema',)\n",
      "('prime_academy',)\n",
      "('primeacademy',)\n",
      "('sakila',)\n",
      "('sys',)\n",
      "('world',)\n"
     ]
    }
   ],
   "source": [
    "#mycursor.execute('create database primeacademy')\n",
    "mycursor.execute('show databases')\n",
    "for x in mycursor:\n",
    "    print(x)\n",
    "    "
   ]
  },
  {
   "cell_type": "code",
   "execution_count": 7,
   "id": "619a82b2",
   "metadata": {},
   "outputs": [],
   "source": [
    "#id, name, age, gender, dob, address, guardian, guardiancontact"
   ]
  },
  {
   "cell_type": "code",
   "execution_count": 8,
   "id": "68fe7fcf",
   "metadata": {},
   "outputs": [],
   "source": [
    "mydb =pymysql.connect(\n",
    "host = 'localhost',\n",
    "port = 3306,\n",
    "user = 'root',\n",
    "password = 'Jessy94.',\n",
    "database = 'primeacademy'\n",
    ")\n",
    "mycursor = mydb.cursor()"
   ]
  },
  {
   "cell_type": "code",
   "execution_count": 9,
   "id": "157ba6fe",
   "metadata": {},
   "outputs": [
    {
     "name": "stdout",
     "output_type": "stream",
     "text": [
      "('id', 'int', 'NO', 'PRI', None, '')\n",
      "('name', 'varchar(255)', 'NO', '', None, '')\n",
      "('age', 'int', 'NO', '', None, '')\n",
      "('gender', 'varchar(90)', 'NO', '', None, '')\n",
      "('dob', 'date', 'NO', '', None, '')\n",
      "('address', 'text', 'NO', '', None, '')\n",
      "('guardian', 'varchar(255)', 'NO', '', None, '')\n",
      "('guardian_contact', 'varchar(50)', 'NO', '', None, '')\n"
     ]
    }
   ],
   "source": [
    "#mycursor.execute('create table students(id int primary key not null, name varchar(255) not null,age int not null, gender varchar(90) not null, dob date not null,address text not null,guardian varchar(255) not null, guardian_contact varchar(50) not null)')\n",
    "mycursor.execute('show columns from students')\n",
    "for x in mycursor:\n",
    "    print(x)"
   ]
  },
  {
   "cell_type": "code",
   "execution_count": 10,
   "id": "23f75ff4",
   "metadata": {},
   "outputs": [],
   "source": [
    "def accept_record():\n",
    "    id=int(input('Enter student id:'))\n",
    "    name =input('Enter student name:')\n",
    "    gender =input('Enter student gender (Male/Female/Other):')\n",
    "    age = int(input('Enter student age:'))\n",
    "    dob = input('Enter student DOB (YYYY-MM-DD):')\n",
    "    address = input('Enter student address:')\n",
    "    guardian = input('Enter guardian name: ')\n",
    "    guardian_contact = input('Enter guardian contact number:')\n",
    "   \n",
    "    query = 'insert into students(id,name,age,gender,dob,address,guardian,guardian_contact) values(%s,%s,%s,%s,%s,%s,%s,%s)' # %s serves as a place holder and it must match the number of columns we have\n",
    "    mycursor.execute(query,(id,name,age,gender,dob,address,guardian,guardian_contact))\n",
    "    mydb.commit()  #commit makes your record to stay on the database permanentely\n",
    "    print('Record inserted succcessfully...')\n",
    "    \n",
    "def search_record():\n",
    "    id = int(input('Enter search Id:'))\n",
    "    query = 'select * from students where id =\"%s\"'\n",
    "    mycursor.execute(query,(id,))\n",
    "    result = mycursor.fetchall()\n",
    "    if len(result) == 0:\n",
    "        print('Record not found')\n",
    "    else:\n",
    "        for x in result:\n",
    "            print(x)\n",
    "def display_record():\n",
    "    mycursor.execute('select * from students')\n",
    "    for x in mycursor:\n",
    "        print(x)\n",
    "        \n",
    "def update_record():\n",
    "    id = int(input('Enter search ID to be updated:'))\n",
    "    column = input('Enter the column to be updated')\n",
    "    newval = input('Enter the new value:')\n",
    "    query=f'update students set {column} =%s where id =%s'\n",
    "    mycursor.execute(query,(newval,id))\n",
    "    mydb.commit()\n",
    "    print('record update successfully...')\n",
    "    \n",
    "def archive_record(): #archive is same as delete\n",
    "    id = int(input('Enter ID to be deleted'))\n",
    "    query = 'delete from students where id =%s'\n",
    "    mycursor.execute(query,(id,)) \n",
    "    mydb.commit()\n",
    "    print('Record Archived successfully...')\n",
    "    \n",
    "def main():\n",
    "    print('Welcome Admin')\n",
    "    print('operation list [Accept, display, search, update, archive, logout]')\n",
    "    operation = True\n",
    "    while operation:\n",
    "        option = input('select operation:')\n",
    "        if option =='Accept'.lower():\n",
    "            accept_record()\n",
    "        elif option == 'Display'.lower():\n",
    "            display_record()\n",
    "        elif option == 'Search'.lower():\n",
    "            search_record()\n",
    "        elif option == 'Update'.lower():\n",
    "            update_record()\n",
    "        elif option == 'Archive'.lower():\n",
    "            archive_record() \n",
    "        elif option == 'logout'.lower():\n",
    "            operation = False\n",
    "            print('OPERATION TERMINATED.......')\n",
    "            break\n",
    "    \n",
    "    "
   ]
  },
  {
   "cell_type": "code",
   "execution_count": null,
   "id": "9877d5d3",
   "metadata": {},
   "outputs": [
    {
     "name": "stdout",
     "output_type": "stream",
     "text": [
      "Welcome Admin\n",
      "operation list [Accept, display, search, update, archive, logout]\n",
      "select operation:update\n",
      "Enter search ID to be updated:1\n",
      "Enter the column to be updatedname\n",
      "Enter the new value:merrcy\n",
      "record update successfully...\n"
     ]
    }
   ],
   "source": [
    "main()"
   ]
  },
  {
   "cell_type": "code",
   "execution_count": null,
   "id": "8562b6bf",
   "metadata": {},
   "outputs": [],
   "source": []
  }
 ],
 "metadata": {
  "kernelspec": {
   "display_name": "Python 3 (ipykernel)",
   "language": "python",
   "name": "python3"
  },
  "language_info": {
   "codemirror_mode": {
    "name": "ipython",
    "version": 3
   },
   "file_extension": ".py",
   "mimetype": "text/x-python",
   "name": "python",
   "nbconvert_exporter": "python",
   "pygments_lexer": "ipython3",
   "version": "3.11.5"
  }
 },
 "nbformat": 4,
 "nbformat_minor": 5
}
