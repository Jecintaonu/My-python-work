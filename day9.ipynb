{
 "cells": [
  {
   "cell_type": "code",
   "execution_count": 7,
   "id": "17757bf8",
   "metadata": {},
   "outputs": [
    {
     "name": "stdout",
     "output_type": "stream",
     "text": [
      "Enter First Number:43\n",
      "Enter Second Number:3\n",
      "Choose operation option[+,-,*,/]:+\n",
      "43+ 3 = 46\n"
     ]
    }
   ],
   "source": [
    "#ERROR HANDLING: simple means how to handle error. to point out potential error that one may encounter\n",
    "#try: test the block codes for any potential error. if theres an error it jumps to except\n",
    "#except: returns a kind of error encountered by the try block\n",
    "#else: is dependent on the try block#finally:will always execute whether theres an error or not.\n",
    "# else:it will always execute regardless of any exception or not\n",
    "\n",
    "try:\n",
    "    num1=int(input('Enter First Number:'))\n",
    "    num2=int(input('Enter Second Number:'))\n",
    "    option= input('Choose operation option[+,-,*,/]:')\n",
    "    if option == '+':\n",
    "        print(f'{num1}+ {num2} = {num1 + num2}')\n",
    "    \n",
    "    elif option == '-':\n",
    "        print(f'{num1} - {num2} = {num1 - num2}')\n",
    "    \n",
    "    elif option == '*':\n",
    "        print(f'{num1}* {num2} = {num1 * num2}')\n",
    "              \n",
    "    elif option == '/':\n",
    "        print(f'{num1}/ {num2} = {num1 / num2}')\n",
    "              \n",
    "except:\n",
    "    print('You have encountered one or more error')\n",
    "             \n",
    "    \n",
    "    \n",
    "    "
   ]
  },
  {
   "cell_type": "code",
   "execution_count": 13,
   "id": "d9babac8",
   "metadata": {},
   "outputs": [
    {
     "name": "stdout",
     "output_type": "stream",
     "text": [
      "Enter First Number:34\n",
      "Enter Second Number:0\n",
      "Choose operation option[+,-,*,/]:/\n",
      "Sorry you cannot divide a number by 0\n"
     ]
    }
   ],
   "source": [
    "\n",
    "try:\n",
    "    num1=int(input('Enter First Number:'))\n",
    "    num2=int(input('Enter Second Number:'))\n",
    "    option= input('Choose operation option[+,-,*,/]:')\n",
    "    if option == '+':\n",
    "        print(f'{num1}+ {num2} = {num1 + num2}')\n",
    "    \n",
    "    elif option == '-':\n",
    "        print(f'{num1} - {num2} = {num1 - num2}')\n",
    "    \n",
    "    elif option == '*':\n",
    "        print(f'{num1}* {num2} = {num1 * num2}')\n",
    "              \n",
    "    elif option == '/':\n",
    "        print(f'{num1}/ {num2} = {num1 / num2}')\n",
    "except ValueError:\n",
    "    print ('Wrong value for first or second number only whole is expected')\n",
    "except ZeroDivisionError:\n",
    "    print('Sorry you cannot divide a number by 0')           \n",
    "except:\n",
    "    print('You have encountered one or more errors')\n",
    "    \n",
    "    \n",
    "\n",
    "\n",
    "\n",
    "\n"
   ]
  },
  {
   "cell_type": "code",
   "execution_count": 14,
   "id": "370cf102",
   "metadata": {},
   "outputs": [
    {
     "name": "stdout",
     "output_type": "stream",
     "text": [
      "Enter First Number:34\n",
      "Enter Second Number:5\n",
      "Choose operation option[+,-,*,/]:*\n",
      "34* 5 = 170\n",
      "45435424\n",
      "End of program\n"
     ]
    }
   ],
   "source": [
    "# to use the else error handler\n",
    "try:\n",
    "    num1=int(input('Enter First Number:'))\n",
    "    num2=int(input('Enter Second Number:'))\n",
    "    option= input('Choose operation option[+,-,*,/]:')\n",
    "    if option == '+':\n",
    "        print(f'{num1}+ {num2} = {num1 + num2}')\n",
    "    \n",
    "    elif option == '-':\n",
    "        print(f'{num1} - {num2} = {num1 - num2}')\n",
    "    \n",
    "    elif option == '*':\n",
    "        print(f'{num1}* {num2} = {num1 * num2}')\n",
    "              \n",
    "    elif option == '/':\n",
    "        print(f'{num1}/ {num2} = {num1 / num2}')\n",
    "except ValueError:\n",
    "    print ('Wrong value for first or second number only whole is expected')\n",
    "except ZeroDivisionError:\n",
    "    print('Sorry you cannot divide a number by 0')           \n",
    "except:\n",
    "    print('You have encountered one or more errors')\n",
    "else:\n",
    "    print(num1 ** num2)\n",
    "finally:\n",
    "    print('End of program')"
   ]
  },
  {
   "cell_type": "code",
   "execution_count": 25,
   "id": "5b6b7459",
   "metadata": {},
   "outputs": [
    {
     "name": "stdout",
     "output_type": "stream",
     "text": [
      "WELCOME TO ALLWELL REAL ESTATE MANAGEMENT BUILDING ESTIMATE CALCULATOR\n",
      "Enter the cost of the land: N34\n",
      "Enter the total area of the building (in per meter square):56\n",
      "Enter the cost per meter sqr for the building:45\n",
      "Enter the percentage of total cost for materials:23\n",
      "Enter the percentage of total cost for labor:59\n",
      "ESTIMATION RESULT\n",
      "Land Cost: N34.00\n",
      "Construction Cost: N2520.00\n",
      "Material Cost at (23.0): N579.60\n",
      "Labor Cost at (59.0): N1486.80\n",
      "Total Estimated Cost: N4620.40\n"
     ]
    }
   ],
   "source": [
    "#create a comprehensive building estimation calculator that involve considering various aspects such as land cost\n",
    "#, material cost, labor cost and other expenses\n",
    "def building_estimation_calculator():\n",
    "    print('WELCOME TO ALLWELL REAL ESTATE MANAGEMENT BUILDING ESTIMATE CALCULATOR')\n",
    "    # GET INPUT FROM USER\n",
    "    try:\n",
    "            land_cost = float(input('Enter the cost of the land: N'))\n",
    "            building_area = float(input('Enter the total area of the building (in per meter square):'))\n",
    "            cost_per_meter_sqr = float(input('Enter the cost per meter sqr for the building:'))\n",
    "            material_cost_per = float(input('Enter the percentage of total cost for materials:'))\n",
    "            labor_cost_per = float(input('Enter the percentage of total cost for labor:'))\n",
    "    except ValueError:\n",
    "        print('Please Enter Valid Numerical Values.')\n",
    "    else:\n",
    "        const_cost = cost_per_meter_sqr * building_area\n",
    "        material_cost = (material_cost_per/100)*const_cost\n",
    "        labor_cost = (labor_cost_per/100)*const_cost\n",
    "        totalcost = land_cost + const_cost + material_cost + labor_cost\n",
    "    finally:\n",
    "        print('ESTIMATION RESULT')\n",
    "        print(f'Land Cost: N{land_cost:.2f}')\n",
    "        print(f'Construction Cost: N{const_cost:.2f}')\n",
    "        print(f'Material Cost at ({material_cost_per}): N{material_cost:.2f}')\n",
    "        print(f'Labor Cost at ({labor_cost_per}): N{labor_cost:.2f}')\n",
    "        print(f'Total Estimated Cost: N{totalcost:.2f}')\n",
    "building_estimation_calculator()\n",
    "                \n",
    "        "
   ]
  },
  {
   "cell_type": "markdown",
   "id": "be6707ee",
   "metadata": {},
   "source": [
    "## "
   ]
  }
 ],
 "metadata": {
  "kernelspec": {
   "display_name": "Python 3 (ipykernel)",
   "language": "python",
   "name": "python3"
  },
  "language_info": {
   "codemirror_mode": {
    "name": "ipython",
    "version": 3
   },
   "file_extension": ".py",
   "mimetype": "text/x-python",
   "name": "python",
   "nbconvert_exporter": "python",
   "pygments_lexer": "ipython3",
   "version": "3.11.5"
  }
 },
 "nbformat": 4,
 "nbformat_minor": 5
}
