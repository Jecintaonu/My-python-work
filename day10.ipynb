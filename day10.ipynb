{
 "cells": [
  {
   "cell_type": "code",
   "execution_count": 1,
   "id": "35c0215d",
   "metadata": {},
   "outputs": [
    {
     "name": "stdout",
     "output_type": "stream",
     "text": [
      "['MAXYEAR', 'MINYEAR', 'UTC', '__all__', '__builtins__', '__cached__', '__doc__', '__file__', '__loader__', '__name__', '__package__', '__spec__', 'date', 'datetime', 'datetime_CAPI', 'sys', 'time', 'timedelta', 'timezone', 'tzinfo']\n"
     ]
    }
   ],
   "source": [
    "#DATE TIME MODULE\n",
    "import datetime\n",
    "print(dir(datetime))"
   ]
  },
  {
   "cell_type": "code",
   "execution_count": 3,
   "id": "c31f106c",
   "metadata": {},
   "outputs": [
    {
     "data": {
      "text/plain": [
       "datetime.date(2024, 10, 24)"
      ]
     },
     "execution_count": 3,
     "metadata": {},
     "output_type": "execute_result"
    }
   ],
   "source": [
    "date1= datetime.date(2024,10,24)\n",
    "date1"
   ]
  },
  {
   "cell_type": "code",
   "execution_count": 5,
   "id": "6f30d67c",
   "metadata": {},
   "outputs": [
    {
     "name": "stdout",
     "output_type": "stream",
     "text": [
      "2024\n",
      "10\n",
      "24\n",
      "3\n",
      "4\n"
     ]
    }
   ],
   "source": [
    "#how to extract only the year, month, day weekday or isoweekday\n",
    "#isoweekday startcounting from 1\n",
    "#while weekday uses the python pattern which starts from 0\n",
    "print(date1.year)\n",
    "print(date1.month)\n",
    "print(date1.day)\n",
    "print(date1.weekday())\n",
    "print(date1.isoweekday())"
   ]
  },
  {
   "cell_type": "code",
   "execution_count": 6,
   "id": "1ff2a195",
   "metadata": {},
   "outputs": [],
   "source": [
    "#strfftime: means string format time and it is used for the modification of date and time formatted in a string"
   ]
  },
  {
   "cell_type": "code",
   "execution_count": 7,
   "id": "2abc8d7a",
   "metadata": {},
   "outputs": [
    {
     "data": {
      "text/plain": [
       "datetime.date(2024, 1, 30)"
      ]
     },
     "execution_count": 7,
     "metadata": {},
     "output_type": "execute_result"
    }
   ],
   "source": [
    "current_date= datetime.date.today()\n",
    "current_date"
   ]
  },
  {
   "cell_type": "code",
   "execution_count": 8,
   "id": "f5924c57",
   "metadata": {},
   "outputs": [],
   "source": [
    "#we use alphabet to access the day of the week\n",
    "#capital letters returns the full day while small letters return the abrevation of the day\n",
    "#B= MONTH\n",
    "#b=abrev. month\n",
    "#Y=YEAR\n",
    "#y=abrev. year\n",
    "#m=returns the month in numbers\n",
    "#d= returns the day in numbers"
   ]
  },
  {
   "cell_type": "code",
   "execution_count": 9,
   "id": "5d23f61c",
   "metadata": {},
   "outputs": [
    {
     "name": "stdout",
     "output_type": "stream",
     "text": [
      "Tuesday\n",
      "Tue\n",
      "January\n",
      "Jan\n",
      "2024\n",
      "24\n",
      "01\n",
      "30\n"
     ]
    }
   ],
   "source": [
    "print(current_date.strftime('%A'))\n",
    "print(current_date.strftime('%a'))\n",
    "print(current_date.strftime('%B'))\n",
    "print(current_date.strftime('%b'))\n",
    "print(current_date.strftime('%Y'))\n",
    "print(current_date.strftime('%y'))\n",
    "print(current_date.strftime('%m'))\n",
    "print(current_date.strftime('%d'))"
   ]
  },
  {
   "cell_type": "code",
   "execution_count": 10,
   "id": "d0146250",
   "metadata": {},
   "outputs": [
    {
     "name": "stdout",
     "output_type": "stream",
     "text": [
      "30th of January, 2024\n"
     ]
    }
   ],
   "source": [
    "#format the current date in this format 30th of january, 2024\n",
    "print(current_date.strftime('%dth of %B, %Y'))"
   ]
  },
  {
   "cell_type": "code",
   "execution_count": 13,
   "id": "107edc5c",
   "metadata": {},
   "outputs": [
    {
     "data": {
      "text/plain": [
       "datetime.time(12, 45, 50, 234615)"
      ]
     },
     "execution_count": 13,
     "metadata": {},
     "output_type": "execute_result"
    }
   ],
   "source": [
    "#FOR THE TIME\n",
    "time1 = datetime.time(12,45,50,234615)\n",
    "time1"
   ]
  },
  {
   "cell_type": "code",
   "execution_count": 14,
   "id": "179c895d",
   "metadata": {},
   "outputs": [
    {
     "name": "stdout",
     "output_type": "stream",
     "text": [
      "12\n",
      "45\n",
      "50\n",
      "234615\n"
     ]
    }
   ],
   "source": [
    "print(time1.hour)\n",
    "print(time1.minute)\n",
    "print(time1.second)\n",
    "print(time1.microsecond)"
   ]
  },
  {
   "cell_type": "code",
   "execution_count": 15,
   "id": "f0ea504f",
   "metadata": {},
   "outputs": [
    {
     "data": {
      "text/plain": [
       "datetime.time(16, 48, 59, 471273)"
      ]
     },
     "execution_count": 15,
     "metadata": {},
     "output_type": "execute_result"
    }
   ],
   "source": [
    "current_time= datetime.datetime.now().time()\n",
    "current_time"
   ]
  },
  {
   "cell_type": "code",
   "execution_count": 16,
   "id": "413772d1",
   "metadata": {},
   "outputs": [
    {
     "name": "stdout",
     "output_type": "stream",
     "text": [
      "16\n",
      "04\n",
      "48\n",
      "59\n",
      "471273\n",
      "PM\n"
     ]
    }
   ],
   "source": [
    "#to apply strftime on the current time\n",
    "print(current_time.strftime('%H'))#returns time in 24hours format\n",
    "print(current_time.strftime('%I'))#retunrs time in 12hours format\n",
    "print(current_time.strftime('%M'))#returs the minute\n",
    "print(current_time.strftime('%S'))#returns the seconds\n",
    "print(current_time.strftime('%f'))#returns the microseconds\n",
    "print(current_time.strftime('%p'))#returns whether PM or AM  "
   ]
  },
  {
   "cell_type": "code",
   "execution_count": 17,
   "id": "da408405",
   "metadata": {},
   "outputs": [
    {
     "data": {
      "text/plain": [
       "datetime.datetime(2024, 1, 30, 16, 57, 56, 35458)"
      ]
     },
     "execution_count": 17,
     "metadata": {},
     "output_type": "execute_result"
    }
   ],
   "source": [
    "current_date_time=datetime.datetime.now()\n",
    "current_date_time"
   ]
  },
  {
   "cell_type": "code",
   "execution_count": 26,
   "id": "795d712a",
   "metadata": {},
   "outputs": [
    {
     "name": "stdout",
     "output_type": "stream",
     "text": [
      "please enter your date [mm/dd/yy]:02/03/2024\n",
      "2024-02-03\n"
     ]
    }
   ],
   "source": [
    "#strptime:this convert a date in string format to datetime format\n",
    "date2 = input('please enter your date [mm/dd/yy]:')\n",
    "cdate= datetime.datetime.strptime(date2, '%m/%d/%Y').date()\n",
    "print(cdate)"
   ]
  },
  {
   "cell_type": "code",
   "execution_count": 27,
   "id": "56856b2a",
   "metadata": {},
   "outputs": [
    {
     "data": {
      "text/plain": [
       "datetime.timedelta(days=-268)"
      ]
     },
     "execution_count": 27,
     "metadata": {},
     "output_type": "execute_result"
    }
   ],
   "source": [
    "#timedelta:it is the difference between two date and time\n",
    "current_date - date1"
   ]
  },
  {
   "cell_type": "code",
   "execution_count": 25,
   "id": "1406fe9c",
   "metadata": {},
   "outputs": [
    {
     "data": {
      "text/plain": [
       "datetime.date(2024, 6, 18)"
      ]
     },
     "execution_count": 25,
     "metadata": {},
     "output_type": "execute_result"
    }
   ],
   "source": [
    "current_date + datetime.timedelta(weeks = 20) "
   ]
  },
  {
   "cell_type": "code",
   "execution_count": 30,
   "id": "f3b192ff",
   "metadata": {},
   "outputs": [
    {
     "name": "stdout",
     "output_type": "stream",
     "text": [
      "Enter your exam date [mm/dd/yy]:03/08/2024\n",
      "Your exam is in 5 weeks and 3 days \n"
     ]
    }
   ],
   "source": [
    "#EXERCISE\n",
    "#Earlycode is building a system for students you are instructed by the leader to write a code that allows students \n",
    "#to check there exam date in weeks and days from the current date\n",
    "examdate = input('Enter your exam date [mm/dd/yy]:')\n",
    "date = datetime.datetime.strptime(examdate, '%m/%d/%Y').date()\n",
    "current_date = datetime.date.today()\n",
    "difference= date - current_date\n",
    "weeks = difference.days// 7\n",
    "days = difference.days% 7\n",
    "print(f'Your exam is in {weeks} weeks and {days} days ' )"
   ]
  },
  {
   "cell_type": "code",
   "execution_count": 29,
   "id": "38cd9ff5",
   "metadata": {},
   "outputs": [
    {
     "name": "stdout",
     "output_type": "stream",
     "text": [
      "186 days, 0:00:00\n"
     ]
    }
   ],
   "source": [
    "print(difference)"
   ]
  },
  {
   "cell_type": "code",
   "execution_count": null,
   "id": "f6d9e027",
   "metadata": {},
   "outputs": [],
   "source": []
  }
 ],
 "metadata": {
  "kernelspec": {
   "display_name": "Python 3 (ipykernel)",
   "language": "python",
   "name": "python3"
  },
  "language_info": {
   "codemirror_mode": {
    "name": "ipython",
    "version": 3
   },
   "file_extension": ".py",
   "mimetype": "text/x-python",
   "name": "python",
   "nbconvert_exporter": "python",
   "pygments_lexer": "ipython3",
   "version": "3.11.5"
  }
 },
 "nbformat": 4,
 "nbformat_minor": 5
}
