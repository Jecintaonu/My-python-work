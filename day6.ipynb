{
 "cells": [
  {
   "cell_type": "code",
   "execution_count": 1,
   "id": "0b328a9c",
   "metadata": {},
   "outputs": [],
   "source": [
    "#function\n",
    "#set of programs written for specific purpose or to hhandle specific task\n",
    "#a function is re useable\n",
    "#a function makes ur code look more organize\n",
    "#we start a function with keyword 'def'\n",
    "#TYPES OF FUNCTTON\n",
    "#input function\n",
    "#user defined functio"
   ]
  },
  {
   "cell_type": "code",
   "execution_count": 3,
   "id": "8efb15dc",
   "metadata": {},
   "outputs": [],
   "source": [
    "def greet():\n",
    "    print('welcome to python class')    "
   ]
  },
  {
   "cell_type": "code",
   "execution_count": 4,
   "id": "cbfc44bd",
   "metadata": {},
   "outputs": [
    {
     "name": "stdout",
     "output_type": "stream",
     "text": [
      "welcome to python class\n",
      "None\n"
     ]
    }
   ],
   "source": [
    "print(greet())"
   ]
  },
  {
   "cell_type": "code",
   "execution_count": 5,
   "id": "90f1db29",
   "metadata": {},
   "outputs": [
    {
     "name": "stdout",
     "output_type": "stream",
     "text": [
      "welcome to python class\n"
     ]
    }
   ],
   "source": [
    "greet()"
   ]
  },
  {
   "cell_type": "code",
   "execution_count": 6,
   "id": "09355499",
   "metadata": {},
   "outputs": [
    {
     "name": "stdout",
     "output_type": "stream",
     "text": [
      "My name is Jecinta\n",
      "None\n"
     ]
    }
   ],
   "source": [
    "def name():\n",
    "    print('My name is Jecinta')\n",
    "print(name())"
   ]
  },
  {
   "cell_type": "code",
   "execution_count": 7,
   "id": "09f8ccec",
   "metadata": {},
   "outputs": [
    {
     "name": "stdout",
     "output_type": "stream",
     "text": [
      "My name is Jecinta\n"
     ]
    }
   ],
   "source": [
    "name()"
   ]
  },
  {
   "cell_type": "code",
   "execution_count": 11,
   "id": "eeb3edc5",
   "metadata": {},
   "outputs": [
    {
     "name": "stdout",
     "output_type": "stream",
     "text": [
      "opss sorryyou are not eligible to vote\n"
     ]
    }
   ],
   "source": [
    "#a parameter is a variable used in function or method\n",
    "# the role of a parameter: is a place holder for the actual value called an argument\n",
    "def votecheck(name,gender,age):\n",
    "    if age >=18:\n",
    "        print('congratulations you are eligible to vote')\n",
    "    else:\n",
    "        print('opss sorryyou are not eligible to vote')\n",
    "votecheck('sam','male',15)"
   ]
  },
  {
   "cell_type": "code",
   "execution_count": 17,
   "id": "42dcca24",
   "metadata": {},
   "outputs": [
    {
     "name": "stdout",
     "output_type": "stream",
     "text": [
      "you are eligible for football sport\n"
     ]
    }
   ],
   "source": [
    "#write a funtion to checkk if a user is eliigible for rubgy sport or football sport based on the wieght\n",
    "#175 above weight for rugby and any weight below football sport\n",
    "def sportcheck(name, gender, weight, age):\n",
    "    if weight >=175:\n",
    "       print('you are eligible for rubgy sport')\n",
    "    else:\n",
    "        print('you are eligible for football sport')\n",
    "sportcheck('name','gender',174,'age')\n",
    "\n",
    "    "
   ]
  },
  {
   "cell_type": "code",
   "execution_count": 14,
   "id": "01b5db76",
   "metadata": {},
   "outputs": [
    {
     "name": "stdout",
     "output_type": "stream",
     "text": [
      "congratulations you are eligible to vote\n"
     ]
    }
   ],
   "source": [
    "#function with a defualt parameterdef votecheck(name,gender,age):\n",
    "def votecheck(name,gender,age=18):\n",
    "    if age >=18:\n",
    "        print('congratulations you are eligible to vote')\n",
    "    else:\n",
    "        print('opss sorryyou are not eligible to vote')\n",
    "votecheck('sam','male')\n"
   ]
  },
  {
   "cell_type": "code",
   "execution_count": 21,
   "id": "d415f9c2",
   "metadata": {},
   "outputs": [
    {
     "name": "stdout",
     "output_type": "stream",
     "text": [
      "PLAYER ONE DICE OUTCOME: 8\n",
      "PLAYER TWO DICE OUTCOME: 9\n",
      "PLAYER TWO WINS.....\n",
      "PLAYER ONE DICE OUTCOME: 3\n",
      "PLAYER TWO DICE OUTCOME: 9\n",
      "PLAYER TWO WINS.....\n",
      "PLAYER ONE DICE OUTCOME: 7\n",
      "PLAYER TWO DICE OUTCOME: 8\n",
      "PLAYER TWO WINS.....\n",
      "PLAYER ONE DICE OUTCOME: 5\n",
      "PLAYER TWO DICE OUTCOME: 4\n",
      "PLAYER ONE WINS.....\n",
      "PLAYER ONE DICE OUTCOME: 9\n",
      "PLAYER TWO DICE OUTCOME: 11\n",
      "PLAYER TWO WINS.....\n",
      "PLAYER ONE DICE OUTCOME: 5\n",
      "PLAYER TWO DICE OUTCOME: 8\n",
      "PLAYER TWO WINS.....\n",
      "PLAYER ONE DICE OUTCOME: 6\n",
      "PLAYER TWO DICE OUTCOME: 4\n",
      "PLAYER ONE WINS.....\n",
      "PLAYER ONE DICE OUTCOME: 8\n",
      "PLAYER TWO DICE OUTCOME: 2\n",
      "PLAYER ONE WINS.....\n",
      "PLAYER ONE DICE OUTCOME: 7\n",
      "PLAYER TWO DICE OUTCOME: 4\n",
      "PLAYER ONE WINS.....\n",
      "PLAYER ONE DICE OUTCOME: 6\n",
      "PLAYER TWO DICE OUTCOME: 7\n",
      "PLAYER TWO WINS.....\n",
      "PLAYER TWO IS THE OVERALL WINNER BY 30 POINT\n"
     ]
    }
   ],
   "source": [
    "#Assignment 4 answer\n",
    "def rolldicegame():\n",
    "    import random\n",
    "    playeronescore = 0\n",
    "    playertwoscore = 0\n",
    "    counter = 1\n",
    "    while counter <= 10:\n",
    "        dice1 = random.randint(1,6) + random.randint(1,6)\n",
    "        dice2 = random.randint(1,6) + random.randint(1,6)\n",
    "        if dice1 > dice2:\n",
    "            print('PLAYER ONE DICE OUTCOME:',dice1)\n",
    "            print('PLAYER TWO DICE OUTCOME:', dice2)\n",
    "            print('PLAYER ONE WINS.....')\n",
    "            playeronescore +=5\n",
    "            \n",
    "        elif dice2 > dice1:\n",
    "            print('PLAYER ONE DICE OUTCOME:',dice1)\n",
    "            print('PLAYER TWO DICE OUTCOME:', dice2)\n",
    "            print('PLAYER TWO WINS.....')\n",
    "            playertwoscore +=5\n",
    "            \n",
    "        else:\n",
    "            print('PLAYER ONE DICE OUTCOME:',dice1)\n",
    "            print('PLAYER TWO DICE OUTCOME:', dice2)\n",
    "            print('DRAW.....')\n",
    "            playeronescore +=1\n",
    "            playertwoscore +=1\n",
    "        counter +=1\n",
    "    if playeronescore > playertwoscore:\n",
    "        print(f'PLAYER ONE IS THE OVERALL WINNER BY {playeronescore} POINT')\n",
    "    elif playeronescore < playertwoscore:\n",
    "        print(f'PLAYER TWO IS THE OVERALL WINNER BY {playertwoscore} POINT')\n",
    "    else:\n",
    "        print('NO WINNER, IT IS A DRAW')\n",
    "rolldicegame()\n",
    "            "
   ]
  },
  {
   "cell_type": "code",
   "execution_count": 28,
   "id": "6bc48df9",
   "metadata": {},
   "outputs": [
    {
     "name": "stdout",
     "output_type": "stream",
     "text": [
      "\n",
      "MENU\n",
      "Pizza : $15.00\n",
      "Sandwich : $7.50\n",
      "Salad : $4.99\n",
      "Fries : $3.99\n",
      "Burger : $8.00\n",
      "Enter the food item you want to order(or done to finish)pizza\n",
      "HOW MANY pizzas DO YOU WANT TO ORDER?4\n",
      "\n",
      "MENU\n",
      "Pizza : $15.00\n",
      "Sandwich : $7.50\n",
      "Salad : $4.99\n",
      "Fries : $3.99\n",
      "Burger : $8.00\n",
      "Enter the food item you want to order(or done to finish)done\n",
      "\n",
      "RECEIPT\n",
      "Pizza:4 x $8.00 = $60.0\n",
      "Total price is 60.0\n"
     ]
    }
   ],
   "source": [
    "def order_food():\n",
    "    menu ={\n",
    "        \"pizza\":15.0,\n",
    "        \"sandwich\": 7.5,\n",
    "        \"salad\": 4.99,\n",
    "        \"fries\": 3.99,\n",
    "        \"burger\": 8.00\n",
    "    }\n",
    "    order ={}\n",
    "    totalprice = 0.0\n",
    "    while True:\n",
    "        print('\\nMENU')\n",
    "        for item,price in menu.items():\n",
    "            print(f'{item.capitalize()} : ${price:.2f}')\n",
    "        user_choice =input('Enter the food item you want to order(or done to finish)').lower()\n",
    "\n",
    "        if user_choice == 'done':\n",
    "            break\n",
    "        if user_choice in menu:\n",
    "            quantity = int(input(f'HOW MANY {user_choice}s DO YOU WANT TO ORDER?'))\n",
    "            order[user_choice] = quantity\n",
    "            totalprice += menu[user_choice] * quantity\n",
    "        else:\n",
    "            print('invalid choice, choose from th menu.')\n",
    "    print('\\nRECEIPT')\n",
    "    for item, quantity in order.items():\n",
    "        print(f'{item.capitalize()}:{quantity} x ${price:.2f} = ${menu[item] * quantity}')\n",
    "        print('Total price is', totalprice)\n",
    "order_food()"
   ]
  },
  {
   "cell_type": "code",
   "execution_count": null,
   "id": "5d567878",
   "metadata": {},
   "outputs": [],
   "source": []
  }
 ],
 "metadata": {
  "kernelspec": {
   "display_name": "Python 3 (ipykernel)",
   "language": "python",
   "name": "python3"
  },
  "language_info": {
   "codemirror_mode": {
    "name": "ipython",
    "version": 3
   },
   "file_extension": ".py",
   "mimetype": "text/x-python",
   "name": "python",
   "nbconvert_exporter": "python",
   "pygments_lexer": "ipython3",
   "version": "3.11.5"
  }
 },
 "nbformat": 4,
 "nbformat_minor": 5
}
