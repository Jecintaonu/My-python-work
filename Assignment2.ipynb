{
 "cells": [
  {
   "cell_type": "code",
   "execution_count": 17,
   "id": "065168e5",
   "metadata": {},
   "outputs": [],
   "source": [
    "mylist=[1,2,3,4,5]"
   ]
  },
  {
   "cell_type": "code",
   "execution_count": 18,
   "id": "f086d68c",
   "metadata": {},
   "outputs": [
    {
     "name": "stdout",
     "output_type": "stream",
     "text": [
      "[1, 2, 3, 4, 5, 6]\n"
     ]
    }
   ],
   "source": [
    "mylist.append(6)\n",
    "print(mylist)\n",
    "#Adds a number to the end of the list"
   ]
  },
  {
   "cell_type": "code",
   "execution_count": 20,
   "id": "5e7f39e5",
   "metadata": {},
   "outputs": [
    {
     "name": "stdout",
     "output_type": "stream",
     "text": [
      "9\n"
     ]
    }
   ],
   "source": [
    "mylist2=[3,5,6,2,89,56,23,12,40]\n",
    "print(len(mylist2))\n",
    "#to find the length of the list "
   ]
  },
  {
   "cell_type": "code",
   "execution_count": 21,
   "id": "2c522cff",
   "metadata": {},
   "outputs": [
    {
     "name": "stdout",
     "output_type": "stream",
     "text": [
      "['Orange', 'Cashiew', 'watermelon', 'pear']\n"
     ]
    }
   ],
   "source": [
    "mylist3=['Banana','Orange','Cashiew','watermelon','pear']\n",
    "mylist3.remove('Banana')\n",
    "print(mylist3)\n",
    "#to remove a word from the list"
   ]
  },
  {
   "cell_type": "code",
   "execution_count": 68,
   "id": "398a842f",
   "metadata": {},
   "outputs": [
    {
     "name": "stdout",
     "output_type": "stream",
     "text": [
      "True\n"
     ]
    }
   ],
   "source": [
    "mylist3=['Banana','Orange','Cashiew','watermelon','pear']\n",
    "print('Orange' in mylist3)\n",
    "#to check if orange exist in mylist3"
   ]
  },
  {
   "cell_type": "code",
   "execution_count": 26,
   "id": "0198d77c",
   "metadata": {},
   "outputs": [
    {
     "name": "stdout",
     "output_type": "stream",
     "text": [
      "6\n"
     ]
    }
   ],
   "source": [
    "print(max(mylist))\n",
    "#to find the maximum value in the list"
   ]
  },
  {
   "cell_type": "code",
   "execution_count": 28,
   "id": "8544ba91",
   "metadata": {},
   "outputs": [
    {
     "name": "stdout",
     "output_type": "stream",
     "text": [
      "1\n"
     ]
    }
   ],
   "source": [
    "print(min(mylist))\n",
    "#to find the mimimum value in the list"
   ]
  },
  {
   "cell_type": "code",
   "execution_count": 29,
   "id": "c09f0dba",
   "metadata": {},
   "outputs": [
    {
     "name": "stdout",
     "output_type": "stream",
     "text": [
      "['Ada', 'Diana', 'Jecinta', 'John', 'Joy', 'Mercy']\n"
     ]
    }
   ],
   "source": [
    "names=['Jecinta','Mercy','Ada','Joy','John','Diana']\n",
    "names.sort()\n",
    "print(names)\n",
    "#to sort the values in the list"
   ]
  },
  {
   "cell_type": "code",
   "execution_count": 8,
   "id": "7bad73ec",
   "metadata": {},
   "outputs": [
    {
     "name": "stdout",
     "output_type": "stream",
     "text": [
      "{1, 34, 3, 4, 2, 90, 8, 56, 26}\n",
      "[1, 34, 3, 4, 2, 90, 8, 56, 26]\n"
     ]
    }
   ],
   "source": [
    "num1=[3,4,56,34,8,2,3,56,4,8,1,26,1,90,34]\n",
    "myset=set(num1)\n",
    "print(myset)\n",
    "print(list(myset))\n",
    "#to convert the list to set in other to remove duplicate"
   ]
  },
  {
   "cell_type": "code",
   "execution_count": 39,
   "id": "7dfc7d71",
   "metadata": {},
   "outputs": [
    {
     "name": "stdout",
     "output_type": "stream",
     "text": [
      "['Diana', 'John', 'Joy', 'Ada', 'Mercy', 'Jecinta']\n"
     ]
    }
   ],
   "source": [
    "names=['Jecinta','Mercy','Ada','Joy','John','Diana']\n",
    "names.reverse()\n",
    "print(names)\n",
    "#to reverse the values in the list"
   ]
  },
  {
   "cell_type": "code",
   "execution_count": 46,
   "id": "8c4dab58",
   "metadata": {},
   "outputs": [
    {
     "name": "stdout",
     "output_type": "stream",
     "text": [
      "Jecinta\n",
      "Mercy\n",
      "Ada\n",
      "Joy\n",
      "John\n",
      "Diana\n"
     ]
    }
   ],
   "source": [
    "names=['Jecinta','Mercy','Ada','Joy','John','Diana']\n",
    "for name in names:\n",
    "    print(name)\n",
    "#to interate through the list and perform and perform a\n",
    "#specific operation on each element    "
   ]
  },
  {
   "cell_type": "code",
   "execution_count": 53,
   "id": "8e3f950d",
   "metadata": {},
   "outputs": [
    {
     "name": "stdout",
     "output_type": "stream",
     "text": [
      "Trust\n"
     ]
    }
   ],
   "source": [
    "nums=('love','Trust','Honest')\n",
    "print(nums[1])\n",
    "#to access the second element"
   ]
  },
  {
   "cell_type": "code",
   "execution_count": 54,
   "id": "9e40ae9a",
   "metadata": {},
   "outputs": [
    {
     "name": "stdout",
     "output_type": "stream",
     "text": [
      "(1, 3, 4, 5, 7, 8)\n"
     ]
    }
   ],
   "source": [
    "t1=(1,3,4)\n",
    "t2=(5,7,8)\n",
    "t3=t1+t2\n",
    "print(t3)\n",
    "#to join or concatenate two tuples together"
   ]
  },
  {
   "cell_type": "code",
   "execution_count": 3,
   "id": "eba1b216",
   "metadata": {},
   "outputs": [
    {
     "name": "stdout",
     "output_type": "stream",
     "text": [
      "3\n"
     ]
    }
   ],
   "source": [
    "num5=(1, 3, 5, 4,7,)\n",
    "print(num5.index(4))\n",
    "#to find the index or position of an element"
   ]
  },
  {
   "cell_type": "code",
   "execution_count": 4,
   "id": "52e6744b",
   "metadata": {},
   "outputs": [],
   "source": [
    "#the elements of a tuple cannot be modified after creating because \n",
    "#tuple is collection of unchangeable elements"
   ]
  },
  {
   "cell_type": "code",
   "execution_count": 7,
   "id": "ed3a36eb",
   "metadata": {},
   "outputs": [
    {
     "name": "stdout",
     "output_type": "stream",
     "text": [
      "[1, 5, 6, 7, 8]\n"
     ]
    }
   ],
   "source": [
    "tpl=(1,5,6,7,8,)\n",
    "print(list(tpl))\n",
    "#to convert a tuple to list"
   ]
  },
  {
   "cell_type": "code",
   "execution_count": 11,
   "id": "b2a6c147",
   "metadata": {},
   "outputs": [
    {
     "name": "stdout",
     "output_type": "stream",
     "text": [
      "2\n"
     ]
    }
   ],
   "source": [
    "tpl2=(2,4,3,5,4,1,6,7,5,8,6,5,2,8,34)\n",
    "print(tpl2.count(4))\n",
    "#to count the occurrences of number 4"
   ]
  },
  {
   "cell_type": "code",
   "execution_count": 12,
   "id": "82afb83b",
   "metadata": {},
   "outputs": [
    {
     "name": "stdout",
     "output_type": "stream",
     "text": [
      "james Rice Mango Gown\n"
     ]
    }
   ],
   "source": [
    "tpl3=('james','Rice','Mango','Gown')\n",
    "name, food, fruit, cloth = tpl3\n",
    "print(name, food, fruit, cloth)\n",
    "#to unpack the elements of the tuple into individual variable"
   ]
  },
  {
   "cell_type": "code",
   "execution_count": 15,
   "id": "94e7a258",
   "metadata": {},
   "outputs": [],
   "source": [
    "tpl4=(1,'Mercy',14.5,'height',1.65,3,'Ada')\n",
    "#a tuple can contain elements of different datatype"
   ]
  },
  {
   "cell_type": "code",
   "execution_count": 17,
   "id": "f049299b",
   "metadata": {},
   "outputs": [
    {
     "name": "stdout",
     "output_type": "stream",
     "text": [
      "7\n"
     ]
    }
   ],
   "source": [
    "print(len(tpl4))\n",
    "#to find the lenght of the tuple"
   ]
  },
  {
   "cell_type": "code",
   "execution_count": 18,
   "id": "370f1bef",
   "metadata": {},
   "outputs": [
    {
     "name": "stdout",
     "output_type": "stream",
     "text": [
      "True\n"
     ]
    }
   ],
   "source": [
    "print('Mercy' in tpl4)\n",
    "#to check if Mercy exist in the tuple"
   ]
  },
  {
   "cell_type": "code",
   "execution_count": 20,
   "id": "d3422eb3",
   "metadata": {},
   "outputs": [],
   "source": [
    "dic1={'Name':'Jecinta', 'Age':26,'City':'Abuja'}\n",
    "#example of a dictionary"
   ]
  },
  {
   "cell_type": "code",
   "execution_count": 23,
   "id": "17d769ad",
   "metadata": {},
   "outputs": [
    {
     "name": "stdout",
     "output_type": "stream",
     "text": [
      "{'Name': 'Jecinta', 'Age': 26, 'City': 'Abuja', 'Gender': 'Female'}\n"
     ]
    }
   ],
   "source": [
    "dic1['Gender']='Female'\n",
    "print(dic1)\n",
    "#to add a key-value to an existing dictionary"
   ]
  },
  {
   "cell_type": "code",
   "execution_count": 26,
   "id": "720c62bc",
   "metadata": {},
   "outputs": [
    {
     "name": "stdout",
     "output_type": "stream",
     "text": [
      "Jecinta\n"
     ]
    }
   ],
   "source": [
    "print(dic1['Name'])\n",
    "#to access a value associated with key Name"
   ]
  },
  {
   "cell_type": "code",
   "execution_count": 27,
   "id": "f725629c",
   "metadata": {},
   "outputs": [
    {
     "name": "stdout",
     "output_type": "stream",
     "text": [
      "True\n"
     ]
    }
   ],
   "source": [
    "print('City' in dic1)\n",
    "#to check if key City exist in the dictionary"
   ]
  },
  {
   "cell_type": "code",
   "execution_count": 28,
   "id": "bc85327c",
   "metadata": {},
   "outputs": [
    {
     "name": "stdout",
     "output_type": "stream",
     "text": [
      "False\n"
     ]
    }
   ],
   "source": [
    "print('Class' in dic1)"
   ]
  },
  {
   "cell_type": "code",
   "execution_count": 42,
   "id": "9f3cf028",
   "metadata": {},
   "outputs": [],
   "source": [
    "dic2={'Mango':3, 'Orange':5, 'Banana':10, 'Apple':4}"
   ]
  },
  {
   "cell_type": "code",
   "execution_count": 43,
   "id": "9b617477",
   "metadata": {},
   "outputs": [
    {
     "name": "stdout",
     "output_type": "stream",
     "text": [
      "dict_keys(['Mango', 'Orange', 'Banana', 'Apple'])\n"
     ]
    }
   ],
   "source": [
    "print(dic2.keys())\n",
    "#to access the keys in the dictionary"
   ]
  },
  {
   "cell_type": "code",
   "execution_count": 44,
   "id": "3ced3bfe",
   "metadata": {},
   "outputs": [
    {
     "name": "stdout",
     "output_type": "stream",
     "text": [
      "dict_values([3, 5, 10, 4])\n"
     ]
    }
   ],
   "source": [
    "print(dic2.values())\n",
    "#to access the values in the dictionary"
   ]
  },
  {
   "cell_type": "code",
   "execution_count": 45,
   "id": "f707503e",
   "metadata": {},
   "outputs": [
    {
     "name": "stdout",
     "output_type": "stream",
     "text": [
      "True\n"
     ]
    }
   ],
   "source": [
    "print('Mango' in dic2)\n",
    "#to check if Mango exist in the dictionary"
   ]
  },
  {
   "cell_type": "code",
   "execution_count": 71,
   "id": "9fb78388",
   "metadata": {},
   "outputs": [
    {
     "ename": "SyntaxError",
     "evalue": "incomplete input (328527582.py, line 3)",
     "output_type": "error",
     "traceback": [
      "\u001b[1;36m  Cell \u001b[1;32mIn[71], line 3\u001b[1;36m\u001b[0m\n\u001b[1;33m    #to interate through the dictionary\u001b[0m\n\u001b[1;37m                                       ^\u001b[0m\n\u001b[1;31mSyntaxError\u001b[0m\u001b[1;31m:\u001b[0m incomplete input\n"
     ]
    }
   ],
   "source": [
    "dic2={'Mango':3, 'Orange':5, 'Banana':10, 'Apple':4}\n",
    "for key in dic2:    \n",
    "#to interate through the dictionary"
   ]
  },
  {
   "cell_type": "code",
   "execution_count": 73,
   "id": "376e1963",
   "metadata": {},
   "outputs": [],
   "source": [
    "dic2={('Mango','John','Joy') :'Noun'}\n",
    "#A DICTIONARY CAN HAVE DUPLICATE KEYS BUT MUST NOT BE A LIST KEY"
   ]
  },
  {
   "cell_type": "code",
   "execution_count": 77,
   "id": "066f14b3",
   "metadata": {},
   "outputs": [
    {
     "ename": "TypeError",
     "evalue": "unsupported operand type(s) for +: 'dict' and 'dict'",
     "output_type": "error",
     "traceback": [
      "\u001b[1;31m---------------------------------------------------------------------------\u001b[0m",
      "\u001b[1;31mTypeError\u001b[0m                                 Traceback (most recent call last)",
      "Cell \u001b[1;32mIn[77], line 3\u001b[0m\n\u001b[0;32m      1\u001b[0m dic2\u001b[38;5;241m=\u001b[39m{\u001b[38;5;124m'\u001b[39m\u001b[38;5;124mMango\u001b[39m\u001b[38;5;124m'\u001b[39m:\u001b[38;5;241m3\u001b[39m, \u001b[38;5;124m'\u001b[39m\u001b[38;5;124mOrange\u001b[39m\u001b[38;5;124m'\u001b[39m:\u001b[38;5;241m5\u001b[39m, \u001b[38;5;124m'\u001b[39m\u001b[38;5;124mBanana\u001b[39m\u001b[38;5;124m'\u001b[39m:\u001b[38;5;241m10\u001b[39m, \u001b[38;5;124m'\u001b[39m\u001b[38;5;124mApple\u001b[39m\u001b[38;5;124m'\u001b[39m:\u001b[38;5;241m4\u001b[39m}\n\u001b[0;32m      2\u001b[0m dic3\u001b[38;5;241m=\u001b[39m{\u001b[38;5;124m'\u001b[39m\u001b[38;5;124mGender\u001b[39m\u001b[38;5;124m'\u001b[39m:\u001b[38;5;124m'\u001b[39m\u001b[38;5;124mFemale\u001b[39m\u001b[38;5;124m'\u001b[39m, \u001b[38;5;124m'\u001b[39m\u001b[38;5;124mSchool\u001b[39m\u001b[38;5;124m'\u001b[39m:\u001b[38;5;124m'\u001b[39m\u001b[38;5;124mEarly code\u001b[39m\u001b[38;5;124m'\u001b[39m,\u001b[38;5;124m'\u001b[39m\u001b[38;5;124mName\u001b[39m\u001b[38;5;124m'\u001b[39m:\u001b[38;5;124m'\u001b[39m\u001b[38;5;124mJecinta\u001b[39m\u001b[38;5;124m'\u001b[39m}\n\u001b[1;32m----> 3\u001b[0m dic4\u001b[38;5;241m=\u001b[39m dic2 \u001b[38;5;241m+\u001b[39m dic3\n\u001b[0;32m      4\u001b[0m \u001b[38;5;28mprint\u001b[39m(dic4)\n",
      "\u001b[1;31mTypeError\u001b[0m: unsupported operand type(s) for +: 'dict' and 'dict'"
     ]
    }
   ],
   "source": [
    "dic2={'Mango':3, 'Orange':5, 'Banana':10, 'Apple':4}\n",
    "dic3={'Gender':'Female', 'School':'Early code','Name':'Jecinta'}\n",
    "dic4= dic2 + dic3\n",
    "print(dic4)\n",
    "#to join two dict. together"
   ]
  },
  {
   "cell_type": "code",
   "execution_count": 18,
   "id": "6e448c65",
   "metadata": {},
   "outputs": [],
   "source": [
    "dic5={'Name':['Mercy', 'Diana', 'Faith', 'Fatima'], ('Yes', 'No','Other'):'Married', 'Women clothing':['Top','Dress']}"
   ]
  },
  {
   "cell_type": "code",
   "execution_count": 5,
   "id": "4d8a527d",
   "metadata": {},
   "outputs": [
    {
     "name": "stdout",
     "output_type": "stream",
     "text": [
      "Faith\n"
     ]
    }
   ],
   "source": [
    "print(dic5['Name'][2])"
   ]
  },
  {
   "cell_type": "code",
   "execution_count": 8,
   "id": "da36dd02",
   "metadata": {},
   "outputs": [
    {
     "ename": "IndexError",
     "evalue": "list index out of range",
     "output_type": "error",
     "traceback": [
      "\u001b[1;31m---------------------------------------------------------------------------\u001b[0m",
      "\u001b[1;31mIndexError\u001b[0m                                Traceback (most recent call last)",
      "Cell \u001b[1;32mIn[8], line 1\u001b[0m\n\u001b[1;32m----> 1\u001b[0m \u001b[38;5;28mprint\u001b[39m(dic5[\u001b[38;5;124m'\u001b[39m\u001b[38;5;124mName\u001b[39m\u001b[38;5;124m'\u001b[39m][\u001b[38;5;241m5\u001b[39m])\n",
      "\u001b[1;31mIndexError\u001b[0m: list index out of range"
     ]
    }
   ],
   "source": [
    "print(dic5['Name'][5])"
   ]
  },
  {
   "cell_type": "code",
   "execution_count": 15,
   "id": "d833bce5",
   "metadata": {},
   "outputs": [
    {
     "ename": "KeyError",
     "evalue": "'No'",
     "output_type": "error",
     "traceback": [
      "\u001b[1;31m---------------------------------------------------------------------------\u001b[0m",
      "\u001b[1;31mKeyError\u001b[0m                                  Traceback (most recent call last)",
      "Cell \u001b[1;32mIn[15], line 1\u001b[0m\n\u001b[1;32m----> 1\u001b[0m \u001b[38;5;28mprint\u001b[39m(dic5[\u001b[38;5;124m'\u001b[39m\u001b[38;5;124mNo\u001b[39m\u001b[38;5;124m'\u001b[39m][\u001b[38;5;241m0\u001b[39m])\n",
      "\u001b[1;31mKeyError\u001b[0m: 'No'"
     ]
    }
   ],
   "source": [
    "print(dic5['No'][0])"
   ]
  },
  {
   "cell_type": "code",
   "execution_count": null,
   "id": "73963441",
   "metadata": {},
   "outputs": [],
   "source": []
  }
 ],
 "metadata": {
  "kernelspec": {
   "display_name": "Python 3 (ipykernel)",
   "language": "python",
   "name": "python3"
  },
  "language_info": {
   "codemirror_mode": {
    "name": "ipython",
    "version": 3
   },
   "file_extension": ".py",
   "mimetype": "text/x-python",
   "name": "python",
   "nbconvert_exporter": "python",
   "pygments_lexer": "ipython3",
   "version": "3.11.5"
  }
 },
 "nbformat": 4,
 "nbformat_minor": 5
}
